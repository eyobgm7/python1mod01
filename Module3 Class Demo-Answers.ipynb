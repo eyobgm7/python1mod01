{
 "cells": [
  {
   "cell_type": "markdown",
   "metadata": {},
   "source": [
    "## Exercise 1\n",
    "Your team is tasked to write a function to suggest a beverage based on an age. \n",
    "Your function will be called by a main program as written in below cell. \n",
    "\n",
    "After talking with a customer, you found out that:\n",
    "1. legal age for drinking is 21. \n",
    "2. options for beverage are beer, milk, and soda. \n",
    "\n",
    "\n",
    "Both function and main program contain syntax errors and logical error. Fix errors and run to show it works."
   ]
  },
  {
   "cell_type": "code",
   "execution_count": null,
   "metadata": {},
   "outputs": [],
   "source": [
    "\n",
    "def Beverage()\n",
    "    if age > 21 then\n",
    "      print(\"Have some beer.\")    \n",
    "\n",
    "    if age > 12 \n",
    "       print(\"Have some soda.\")\n",
    "        \n",
    "     \n",
    "    print(\"Have some milk.\")\n",
    "\n",
    "return message    \n"
   ]
  },
  {
   "cell_type": "code",
   "execution_count": null,
   "metadata": {},
   "outputs": [],
   "source": [
    "# main program\n",
    "\n",
    "years = int(\"Enter age:\")\n",
    "print(beverage(years))\n",
    "\n",
    "years = flo(\"Enter age:\")\n",
    "print(beverage(years))\n",
    "\n",
    "years = int(\"Enter age:\")\n",
    "print(beverage(years))\n"
   ]
  },
  {
   "cell_type": "code",
   "execution_count": null,
   "metadata": {},
   "outputs": [],
   "source": [
    "# modified \n",
    "\n",
    "def beverage(age) :\n",
    "    if age < 6 :\n",
    "        beverage = \"milk\"\n",
    "    elif 21 <= age and age < 90 :\n",
    "        beverage = \"beer\"\n",
    "    else :\n",
    "        beverage = \"soda\"\n",
    "        \n",
    "    return \"Have some \" + beverage + \"\\n\"\n"
   ]
  },
  {
   "cell_type": "code",
   "execution_count": null,
   "metadata": {},
   "outputs": [],
   "source": [
    "years = int(input(\"Enter age: \"))\n",
    "print(beverage(years))\n",
    "\n",
    "years = int(input(\"Enter age: \"))\n",
    "print(beverage(years))\n",
    "\n",
    "years = int(input(\"Enter age: \"))\n",
    "print(beverage(years))\n"
   ]
  },
  {
   "cell_type": "markdown",
   "metadata": {},
   "source": [
    "### Exercise 2\n",
    "    1. Ask a user for 2 numbers. \n",
    "    2. Generate 5 random numbers between those 2 numbers and save it to a list called nos1. \n",
    "    3. Generate 3 random numbers between those 2 numbers and save it to a list called nos2. \n",
    "    4. Make a copy of nos1 and save it to variable called all_nos.\n",
    "    5. Extend nos2 to the end of nos1.\n",
    "    6. Print original 5 random numbers, 3 random numbers, and all 8 numbers.\n",
    "    "
   ]
  },
  {
   "cell_type": "code",
   "execution_count": null,
   "metadata": {},
   "outputs": [],
   "source": [
    "# ask a user for 2 numbers - do you need to import anything?\n",
    "\n",
    "import random as rand\n",
    "\n",
    "start_no = int(input(\"Enter a starting number: \"))\n",
    "end_no = int(input(\"Enter a ending number: \"))\n"
   ]
  },
  {
   "cell_type": "code",
   "execution_count": null,
   "metadata": {},
   "outputs": [],
   "source": [
    "# generate 5 random numbers between those 2 numbers and save it to a list called nos1\n",
    "\n",
    "nos1 = []\n",
    "nos1.append(rand.randint(start_no, end_no))\n",
    "nos1.append(rand.randint(start_no, end_no))\n",
    "nos1.append(rand.randint(start_no, end_no))\n",
    "nos1.append(rand.randint(start_no, end_no))\n",
    "nos1.append(rand.randint(start_no, end_no))\n"
   ]
  },
  {
   "cell_type": "code",
   "execution_count": null,
   "metadata": {},
   "outputs": [],
   "source": [
    "# generate 3 random numbers between those 2 numbers and save it to a list called nos2\n",
    "\n",
    "nos2 = []\n",
    "nos2.append(rand.randint(start_no, end_no))\n",
    "nos2.append(rand.randint(start_no, end_no))\n",
    "nos2.append(rand.randint(start_no, end_no))\n"
   ]
  },
  {
   "cell_type": "code",
   "execution_count": null,
   "metadata": {},
   "outputs": [],
   "source": [
    "# copy nos1 and save to all_nos\n",
    "all_nos = nos1.copy()"
   ]
  },
  {
   "cell_type": "code",
   "execution_count": null,
   "metadata": {},
   "outputs": [],
   "source": [
    "# extend nos2 to the end of all_nos\n",
    "\n",
    "all_nos.extend(nos2)"
   ]
  },
  {
   "cell_type": "code",
   "execution_count": null,
   "metadata": {},
   "outputs": [],
   "source": [
    "# print original 5 random numbers, 3 random numbers, and all 8 numbers\n",
    "\n",
    "print(f\"5 random numbers: {nos1}\")\n",
    "print(f\"3 random numbers: {nos2}\")\n",
    "print(f\"All random numbers: {all_nos}\")"
   ]
  },
  {
   "cell_type": "markdown",
   "metadata": {},
   "source": [
    "### Exercise 3\n",
    "Get 7 book tittles from a user and save it in a list.\n",
    "Then, remove the title in the middle of the list after sorting them alphabetically. \n",
    "Display the original tittles, sorted tittles, and titles after removing one"
   ]
  },
  {
   "cell_type": "code",
   "execution_count": 1,
   "metadata": {},
   "outputs": [
    {
     "name": "stdout",
     "output_type": "stream",
     "text": [
      "Enter a title: Dreamland\n",
      "Enter a title: Fairy Tale\n",
      "Enter a title: The Bullet That Missed\n",
      "Enter a title: Blowback\n",
      "Enter a title: Lucy By The Sea\n",
      "Enter a title: The Butcher And The Wern\n",
      "Enter a title: Oath Of Loyalty\n",
      "Original Titles: \n",
      "['Dreamland', 'Fairy Tale', 'The Bullet That Missed', 'Blowback', 'Lucy By The Sea', 'The Butcher And The Wern', 'Oath Of Loyalty']\n",
      "After sorting: \n",
      "['Blowback', 'Dreamland', 'Fairy Tale', 'Lucy By The Sea', 'Oath Of Loyalty', 'The Bullet That Missed', 'The Butcher And The Wern']\n",
      "After removing: \n",
      "['Blowback', 'Dreamland', 'Fairy Tale', 'Oath Of Loyalty', 'The Bullet That Missed', 'The Butcher And The Wern']\n"
     ]
    }
   ],
   "source": [
    "titles = []\n",
    "\n",
    "\n",
    "titles.append(input(\"Enter a title: \"))\n",
    "titles.append(input(\"Enter a title: \"))\n",
    "\n",
    "titles.append(input(\"Enter a title: \"))\n",
    "titles.append(input(\"Enter a title: \"))\n",
    "titles.append(input(\"Enter a title: \"))\n",
    "titles.append(input(\"Enter a title: \"))\n",
    "titles.append(input(\"Enter a title: \"))\n",
    "\n",
    "org_titles = titles.copy()\n",
    "titles.sort()\n",
    "sort_titles = titles.copy()\n",
    "titles.pop(3)\n",
    "\n",
    "print(f\"Original Titles: \\n{org_titles}\")\n",
    "print(f\"After sorting: \\n{sort_titles}\")\n",
    "print(f\"After removing: \\n{titles}\")"
   ]
  },
  {
   "cell_type": "code",
   "execution_count": null,
   "metadata": {},
   "outputs": [],
   "source": []
  }
 ],
 "metadata": {
  "kernelspec": {
   "display_name": "Python 3 (ipykernel)",
   "language": "python",
   "name": "python3"
  },
  "language_info": {
   "codemirror_mode": {
    "name": "ipython",
    "version": 3
   },
   "file_extension": ".py",
   "mimetype": "text/x-python",
   "name": "python",
   "nbconvert_exporter": "python",
   "pygments_lexer": "ipython3",
   "version": "3.9.7"
  }
 },
 "nbformat": 4,
 "nbformat_minor": 4
}
