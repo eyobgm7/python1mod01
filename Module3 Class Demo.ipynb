{
 "cells": [
  {
   "cell_type": "markdown",
   "metadata": {},
   "source": [
    "### Comparison Operators & Boolean Operators"
   ]
  },
  {
   "cell_type": "code",
   "execution_count": 1,
   "metadata": {},
   "outputs": [
    {
     "data": {
      "text/plain": [
       "False"
      ]
     },
     "execution_count": 1,
     "metadata": {},
     "output_type": "execute_result"
    }
   ],
   "source": [
    "123 < 123.0"
   ]
  },
  {
   "cell_type": "code",
   "execution_count": 2,
   "metadata": {},
   "outputs": [
    {
     "ename": "TypeError",
     "evalue": "'<' not supported between instances of 'str' and 'int'",
     "output_type": "error",
     "traceback": [
      "\u001b[1;31m---------------------------------------------------------------------------\u001b[0m",
      "\u001b[1;31mTypeError\u001b[0m                                 Traceback (most recent call last)",
      "\u001b[1;32mC:\\Users\\RVHU32~1\\AppData\\Local\\Temp/ipykernel_6708/1028603965.py\u001b[0m in \u001b[0;36m<module>\u001b[1;34m\u001b[0m\n\u001b[1;32m----> 1\u001b[1;33m \u001b[1;34m\"123\"\u001b[0m \u001b[1;33m<\u001b[0m \u001b[1;36m123\u001b[0m\u001b[1;33m\u001b[0m\u001b[1;33m\u001b[0m\u001b[0m\n\u001b[0m",
      "\u001b[1;31mTypeError\u001b[0m: '<' not supported between instances of 'str' and 'int'"
     ]
    }
   ],
   "source": [
    "\"123\" < 123"
   ]
  },
  {
   "cell_type": "code",
   "execution_count": 3,
   "metadata": {},
   "outputs": [
    {
     "data": {
      "text/plain": [
       "False"
      ]
     },
     "execution_count": 3,
     "metadata": {},
     "output_type": "execute_result"
    }
   ],
   "source": [
    "\"message\" < \"mess\""
   ]
  },
  {
   "cell_type": "code",
   "execution_count": 5,
   "metadata": {},
   "outputs": [
    {
     "data": {
      "text/plain": [
       "False"
      ]
     },
     "execution_count": 5,
     "metadata": {},
     "output_type": "execute_result"
    }
   ],
   "source": [
    "\"Message\" < \"message\""
   ]
  },
  {
   "cell_type": "code",
   "execution_count": 6,
   "metadata": {},
   "outputs": [
    {
     "data": {
      "text/plain": [
       "True"
      ]
     },
     "execution_count": 6,
     "metadata": {},
     "output_type": "execute_result"
    }
   ],
   "source": [
    "\"pie\" in \"apple pie\""
   ]
  },
  {
   "cell_type": "code",
   "execution_count": 7,
   "metadata": {},
   "outputs": [
    {
     "data": {
      "text/plain": [
       "False"
      ]
     },
     "execution_count": 7,
     "metadata": {},
     "output_type": "execute_result"
    }
   ],
   "source": [
    "\"in\" not in \"Be comfortable in uncertain situations\""
   ]
  },
  {
   "cell_type": "code",
   "execution_count": 8,
   "metadata": {},
   "outputs": [
    {
     "data": {
      "text/plain": [
       "2"
      ]
     },
     "execution_count": 8,
     "metadata": {},
     "output_type": "execute_result"
    }
   ],
   "source": [
    "\"Be comfortable in uncertain situations\".count(\"in\")"
   ]
  },
  {
   "cell_type": "code",
   "execution_count": 9,
   "metadata": {},
   "outputs": [
    {
     "data": {
      "text/plain": [
       "False"
      ]
     },
     "execution_count": 9,
     "metadata": {},
     "output_type": "execute_result"
    }
   ],
   "source": [
    "age = 5\n",
    "age == 18"
   ]
  },
  {
   "cell_type": "code",
   "execution_count": 10,
   "metadata": {},
   "outputs": [
    {
     "data": {
      "text/plain": [
       "True"
      ]
     },
     "execution_count": 10,
     "metadata": {},
     "output_type": "execute_result"
    }
   ],
   "source": [
    "qty = 10\n",
    "qty != 0"
   ]
  },
  {
   "cell_type": "code",
   "execution_count": 11,
   "metadata": {},
   "outputs": [
    {
     "name": "stdout",
     "output_type": "stream",
     "text": [
      "False\n"
     ]
    }
   ],
   "source": [
    "#age = 5\n",
    "result = age == 18\n",
    "print(result)"
   ]
  },
  {
   "cell_type": "code",
   "execution_count": 12,
   "metadata": {},
   "outputs": [
    {
     "data": {
      "text/plain": [
       "False"
      ]
     },
     "execution_count": 12,
     "metadata": {},
     "output_type": "execute_result"
    }
   ],
   "source": [
    "age >= 65 and city == \"Gaithersburg\""
   ]
  },
  {
   "cell_type": "code",
   "execution_count": 13,
   "metadata": {},
   "outputs": [
    {
     "ename": "NameError",
     "evalue": "name 'city' is not defined",
     "output_type": "error",
     "traceback": [
      "\u001b[1;31m---------------------------------------------------------------------------\u001b[0m",
      "\u001b[1;31mNameError\u001b[0m                                 Traceback (most recent call last)",
      "\u001b[1;32mC:\\Users\\RVHU32~1\\AppData\\Local\\Temp/ipykernel_6708/34813720.py\u001b[0m in \u001b[0;36m<module>\u001b[1;34m\u001b[0m\n\u001b[1;32m----> 1\u001b[1;33m \u001b[0mprint\u001b[0m\u001b[1;33m(\u001b[0m\u001b[0mcity\u001b[0m\u001b[1;33m)\u001b[0m\u001b[1;33m\u001b[0m\u001b[1;33m\u001b[0m\u001b[0m\n\u001b[0m",
      "\u001b[1;31mNameError\u001b[0m: name 'city' is not defined"
     ]
    }
   ],
   "source": [
    "print(city)"
   ]
  },
  {
   "cell_type": "code",
   "execution_count": 14,
   "metadata": {},
   "outputs": [
    {
     "data": {
      "text/plain": [
       "True"
      ]
     },
     "execution_count": 14,
     "metadata": {},
     "output_type": "execute_result"
    }
   ],
   "source": [
    "city = \"Gaithersburg\"\n",
    "state = \"MD\"\n",
    "\n",
    "age >= 65 or city == \"Gaithersburg\""
   ]
  },
  {
   "cell_type": "code",
   "execution_count": 15,
   "metadata": {},
   "outputs": [
    {
     "data": {
      "text/plain": [
       "True"
      ]
     },
     "execution_count": 15,
     "metadata": {},
     "output_type": "execute_result"
    }
   ],
   "source": [
    "age >= 65 and city == \"Gaithersburg\" or not result"
   ]
  },
  {
   "cell_type": "code",
   "execution_count": 16,
   "metadata": {},
   "outputs": [
    {
     "data": {
      "text/plain": [
       "False"
      ]
     },
     "execution_count": 16,
     "metadata": {},
     "output_type": "execute_result"
    }
   ],
   "source": [
    "False and True   # age >= 65 and city == \"Gaithersburg\""
   ]
  },
  {
   "cell_type": "code",
   "execution_count": 17,
   "metadata": {},
   "outputs": [
    {
     "data": {
      "text/plain": [
       "True"
      ]
     },
     "execution_count": 17,
     "metadata": {},
     "output_type": "execute_result"
    }
   ],
   "source": [
    "not result"
   ]
  },
  {
   "cell_type": "code",
   "execution_count": 18,
   "metadata": {},
   "outputs": [
    {
     "data": {
      "text/plain": [
       "True"
      ]
     },
     "execution_count": 18,
     "metadata": {},
     "output_type": "execute_result"
    }
   ],
   "source": [
    "False or True   # (age >= 65 and city == \"Gaithersburg\") or not result"
   ]
  },
  {
   "cell_type": "code",
   "execution_count": 19,
   "metadata": {},
   "outputs": [
    {
     "data": {
      "text/plain": [
       "False"
      ]
     },
     "execution_count": 19,
     "metadata": {},
     "output_type": "execute_result"
    }
   ],
   "source": [
    "age >= 65 and (city == \"Gaithersburg\" or not result)  # False and ?"
   ]
  },
  {
   "cell_type": "code",
   "execution_count": 20,
   "metadata": {},
   "outputs": [
    {
     "name": "stdout",
     "output_type": "stream",
     "text": [
      "Gaithersburg\n"
     ]
    }
   ],
   "source": [
    "print(city)"
   ]
  },
  {
   "cell_type": "code",
   "execution_count": 21,
   "metadata": {},
   "outputs": [
    {
     "data": {
      "text/plain": [
       "True"
      ]
     },
     "execution_count": 21,
     "metadata": {},
     "output_type": "execute_result"
    }
   ],
   "source": [
    "city.lower() == \"gaithersburg\""
   ]
  },
  {
   "cell_type": "code",
   "execution_count": 22,
   "metadata": {},
   "outputs": [
    {
     "data": {
      "text/plain": [
       "True"
      ]
     },
     "execution_count": 22,
     "metadata": {},
     "output_type": "execute_result"
    }
   ],
   "source": [
    "city.upper() == \"gaithersburg\".upper()"
   ]
  },
  {
   "cell_type": "code",
   "execution_count": 23,
   "metadata": {},
   "outputs": [
    {
     "data": {
      "text/plain": [
       "False"
      ]
     },
     "execution_count": 23,
     "metadata": {},
     "output_type": "execute_result"
    }
   ],
   "source": [
    "0 or False"
   ]
  },
  {
   "cell_type": "code",
   "execution_count": 24,
   "metadata": {},
   "outputs": [
    {
     "data": {
      "text/plain": [
       "True"
      ]
     },
     "execution_count": 24,
     "metadata": {},
     "output_type": "execute_result"
    }
   ],
   "source": [
    "1 and True"
   ]
  },
  {
   "cell_type": "code",
   "execution_count": 25,
   "metadata": {},
   "outputs": [
    {
     "data": {
      "text/plain": [
       "False"
      ]
     },
     "execution_count": 25,
     "metadata": {},
     "output_type": "execute_result"
    }
   ],
   "source": [
    "bool(\"\")"
   ]
  },
  {
   "cell_type": "code",
   "execution_count": 26,
   "metadata": {},
   "outputs": [
    {
     "data": {
      "text/plain": [
       "True"
      ]
     },
     "execution_count": 26,
     "metadata": {},
     "output_type": "execute_result"
    }
   ],
   "source": [
    "bool(\"abc\")"
   ]
  },
  {
   "cell_type": "code",
   "execution_count": 27,
   "metadata": {},
   "outputs": [
    {
     "data": {
      "text/plain": [
       "False"
      ]
     },
     "execution_count": 27,
     "metadata": {},
     "output_type": "execute_result"
    }
   ],
   "source": [
    "bool(None)"
   ]
  },
  {
   "cell_type": "markdown",
   "metadata": {},
   "source": [
    "### Conditional Statement"
   ]
  },
  {
   "cell_type": "markdown",
   "metadata": {},
   "source": [
    "#### IF Statement"
   ]
  },
  {
   "cell_type": "code",
   "execution_count": 28,
   "metadata": {},
   "outputs": [
    {
     "name": "stdout",
     "output_type": "stream",
     "text": [
      "This code executes no matter what\n"
     ]
    }
   ],
   "source": [
    "age = 16\n",
    "if age >= 18 :\n",
    "    print(\"You may vote.\")\n",
    "    \n",
    "print(\"This code executes no matter what\")      "
   ]
  },
  {
   "cell_type": "code",
   "execution_count": 29,
   "metadata": {},
   "outputs": [
    {
     "name": "stdout",
     "output_type": "stream",
     "text": [
      "You may vote.\n",
      "This code executes no matter what\n"
     ]
    }
   ],
   "source": [
    "age = 99\n",
    "if age >= 18 :\n",
    "    print(\"You may vote.\")\n",
    "    \n",
    "print(\"This code executes no matter what\")      "
   ]
  },
  {
   "cell_type": "markdown",
   "metadata": {},
   "source": [
    "#### IF/ELSE Statement"
   ]
  },
  {
   "cell_type": "code",
   "execution_count": 32,
   "metadata": {},
   "outputs": [
    {
     "name": "stdout",
     "output_type": "stream",
     "text": [
      "You may vote.\n",
      "This code executes no matter what\n"
     ]
    }
   ],
   "source": [
    "age = 26\n",
    "if age >= 18 :\n",
    "    print(\"You may vote.\")\n",
    "else :\n",
    "    print(\"You are too young to vote.\")\n",
    "    print(f\"Come back in {18 - age} years\") \n",
    "    \n",
    "print(\"This code executes no matter what\")   "
   ]
  },
  {
   "cell_type": "code",
   "execution_count": 34,
   "metadata": {},
   "outputs": [],
   "source": [
    "def check_age(age) :\n",
    "    if age >= 18 :\n",
    "        print(\"You may vote.\")\n",
    "    else :\n",
    "        print(\"You are too young to vote.\")\n",
    "        print(f\"Come back in {18 - age} years\") \n",
    "    "
   ]
  },
  {
   "cell_type": "code",
   "execution_count": 35,
   "metadata": {},
   "outputs": [
    {
     "name": "stdout",
     "output_type": "stream",
     "text": [
      "Enter your age: 23\n",
      "You may vote.\n",
      "Bye!\n"
     ]
    }
   ],
   "source": [
    "age = int(input(\"Enter your age: \"))\n",
    "check_age(age)\n",
    "print(\"Bye!\")"
   ]
  },
  {
   "cell_type": "code",
   "execution_count": 36,
   "metadata": {},
   "outputs": [],
   "source": [
    "def check_score(arg) :\n",
    "    if arg >= 60 :\n",
    "        print(\"You passed\")\n",
    "    else :\n",
    "        print(\"You failed\")"
   ]
  },
  {
   "cell_type": "code",
   "execution_count": 37,
   "metadata": {},
   "outputs": [
    {
     "name": "stdout",
     "output_type": "stream",
     "text": [
      "Enter a score: 77\n",
      "You passed\n",
      "Bye!\n"
     ]
    }
   ],
   "source": [
    "score = int(input(\"Enter a score: \"))\n",
    "check_score(score)\n",
    "print(\"Bye!\")"
   ]
  },
  {
   "cell_type": "markdown",
   "metadata": {},
   "source": [
    "#### IF/ELIF Statement"
   ]
  },
  {
   "cell_type": "code",
   "execution_count": 41,
   "metadata": {},
   "outputs": [
    {
     "name": "stdout",
     "output_type": "stream",
     "text": [
      "Stop\n",
      "This code executes no matter what\n"
     ]
    }
   ],
   "source": [
    "#light_color = \"green\"\n",
    "#light_color = \"yellow\"\n",
    "light_color = \"red\"\n",
    "#light_color = \"blue\"\n",
    "\n",
    "if light_color == \"green\" :\n",
    "    print(\"Go\")\n",
    "elif light_color == \"yellow\" :\n",
    "    print(\"Proceed with caution\")\n",
    "elif light_color == \"red\" :\n",
    "    print(\"Stop\")\n",
    "else :\n",
    "    print(\"Check your eyes\")\n",
    "    \n",
    "print(\"This code executes no matter what\")    "
   ]
  },
  {
   "cell_type": "code",
   "execution_count": 42,
   "metadata": {},
   "outputs": [],
   "source": [
    "def traffic_light(color) :\n",
    "    print(f\"Light is {color}\", end=', ')\n",
    "    \n",
    "    if color == \"green\" :\n",
    "        print(\"go.\")\n",
    "    elif color == \"yellow\" :\n",
    "        print(\"proceed with caution.\")\n",
    "    elif color != \"red\" :\n",
    "        print(\"check your eyes.\")\n",
    "    else :\n",
    "        print(\"stop.\")"
   ]
  },
  {
   "cell_type": "code",
   "execution_count": 43,
   "metadata": {},
   "outputs": [
    {
     "name": "stdout",
     "output_type": "stream",
     "text": [
      "Light is green, go.\n",
      "Light is yellow, proceed with caution.\n",
      "Light is read, check your eyes.\n",
      "Light is red, stop.\n"
     ]
    }
   ],
   "source": [
    "traffic_light(\"green\")     \n",
    "traffic_light(\"yellow\")        \n",
    "traffic_light(\"read\")    \n",
    "traffic_light(\"red\")         "
   ]
  },
  {
   "cell_type": "code",
   "execution_count": 44,
   "metadata": {},
   "outputs": [],
   "source": [
    "def school(age) :\n",
    "    if age < 7 :\n",
    "        print(\"Kindergarten\")\n",
    "    else : \n",
    "        if age < 13 :\n",
    "            print (\"Elementary School\")\n",
    "        else :\n",
    "            if age < 15 :\n",
    "                print (\"Middle School\")\n",
    "            else :\n",
    "                if age < 19 :\n",
    "                    print(\"High School\")\n",
    "                else :\n",
    "                    print(\"Adult\")"
   ]
  },
  {
   "cell_type": "code",
   "execution_count": 45,
   "metadata": {},
   "outputs": [
    {
     "name": "stdout",
     "output_type": "stream",
     "text": [
      "Kindergarten\n",
      "Adult\n",
      "Elementary School\n",
      "High School\n"
     ]
    }
   ],
   "source": [
    "school(6)\n",
    "school(26)\n",
    "school(12)\n",
    "school(16)"
   ]
  },
  {
   "cell_type": "code",
   "execution_count": 46,
   "metadata": {},
   "outputs": [],
   "source": [
    "def school2(age) :\n",
    "    if age < 7 :\n",
    "        print(\"Kindergarten\")\n",
    "    elif age < 13 :\n",
    "        print (\"Elementary School\")\n",
    "    elif age < 15 :\n",
    "        print (\"Middle School\")\n",
    "    elif age < 19 :\n",
    "        print(\"High School\")\n",
    "    else :\n",
    "        print(\"Adult\")"
   ]
  },
  {
   "cell_type": "code",
   "execution_count": 47,
   "metadata": {},
   "outputs": [
    {
     "name": "stdout",
     "output_type": "stream",
     "text": [
      "Kindergarten\n",
      "Adult\n",
      "Elementary School\n",
      "High School\n"
     ]
    }
   ],
   "source": [
    "school2(6)\n",
    "school2(26)\n",
    "school2(12)\n",
    "school2(16)"
   ]
  },
  {
   "cell_type": "markdown",
   "metadata": {},
   "source": [
    "## Exercise 1\n",
    "Your team is tasked to write a function to suggest a beverage based on an age. \n",
    "Your function will be called by a main program as written in below cell. \n",
    "\n",
    "After talking with a customer, you found out that:\n",
    "1. legal age for drinking is 21. \n",
    "2. options for beverage are beer, milk, and soda. \n",
    "\n",
    "\n",
    "Both function and main program contain syntax errors and logical error. Fix errors and run to show it works."
   ]
  },
  {
   "cell_type": "code",
   "execution_count": 56,
   "metadata": {},
   "outputs": [
    {
     "ename": "IndentationError",
     "evalue": "expected an indented block (Temp/ipykernel_6708/2547669788.py, line 5)",
     "output_type": "error",
     "traceback": [
      "\u001b[1;36m  File \u001b[1;32m\"C:\\Users\\RVHU32~1\\AppData\\Local\\Temp/ipykernel_6708/2547669788.py\"\u001b[1;36m, line \u001b[1;32m5\u001b[0m\n\u001b[1;33m    print(\"Have some beer.\")\u001b[0m\n\u001b[1;37m    ^\u001b[0m\n\u001b[1;31mIndentationError\u001b[0m\u001b[1;31m:\u001b[0m expected an indented block\n"
     ]
    }
   ],
   "source": [
    "# original \n",
    "\n",
    "def Beverage(age):\n",
    "    if age >= 21 :\n",
    "    print(\"Have some beer.\")   \n",
    "    \n",
    "\n",
    "    elif age > 12 :\n",
    "    print(\"Have some soda.\")\n",
    "        \n",
    "else :\n",
    "print(\"Have some milk.\")\n",
    "\n",
    "#return message    \n"
   ]
  },
  {
   "cell_type": "code",
   "execution_count": null,
   "metadata": {},
   "outputs": [],
   "source": [
    "# main program\n",
    "\n",
    "years = int(input(\"Enter age: \")\n",
    "print(beverage(years))\n",
    "\n",
    "years = int(input(\"Enter age: \")\n",
    "print(beverage(years))\n",
    "\n",
    "years = int(input(\"Enter age:\")\n",
    "print(beverage(years))\n"
   ]
  },
  {
   "cell_type": "markdown",
   "metadata": {},
   "source": [
    "### List\n",
    "1. Use numbers to index into a list, meaning you can use numbers to find out what’s in lists. \n",
    "2. List uses square brackets. "
   ]
  },
  {
   "cell_type": "code",
   "execution_count": 57,
   "metadata": {},
   "outputs": [],
   "source": [
    "clothes = ['shirts', 'jacket', 'pants', 'shorts']\n",
    "scores = [99, 86, 79, 91, 88]"
   ]
  },
  {
   "cell_type": "code",
   "execution_count": 58,
   "metadata": {},
   "outputs": [
    {
     "name": "stdout",
     "output_type": "stream",
     "text": [
      "['shirts', 'jacket', 'pants', 'shorts']\n"
     ]
    }
   ],
   "source": [
    "print(clothes)"
   ]
  },
  {
   "cell_type": "code",
   "execution_count": 59,
   "metadata": {},
   "outputs": [
    {
     "name": "stdout",
     "output_type": "stream",
     "text": [
      "['George Washington', 1789, 1797]\n"
     ]
    }
   ],
   "source": [
    "president1 = [\"George Washington\", 1789, 1797]\n",
    "print(president1)"
   ]
  },
  {
   "cell_type": "code",
   "execution_count": 60,
   "metadata": {},
   "outputs": [
    {
     "name": "stdout",
     "output_type": "stream",
     "text": [
      "[['George Washington', 1789, 1797], ['John Adams', 1797, 1801], ['Thomas Jefferson', 1801, 1809]]\n"
     ]
    }
   ],
   "source": [
    "president2 = [\"John Adams\", 1797, 1801]\n",
    "president3 = [\"Thomas Jefferson\", 1801, 1809]\n",
    "\n",
    "presidents = [president1, president2, president3]\n",
    "print(presidents)"
   ]
  },
  {
   "cell_type": "code",
   "execution_count": 61,
   "metadata": {},
   "outputs": [
    {
     "name": "stdout",
     "output_type": "stream",
     "text": [
      "['shirts', 'jacket', 'pants', 'shorts']\n",
      "shirts\n"
     ]
    }
   ],
   "source": [
    "# indexing\n",
    "\n",
    "print(clothes)\n",
    "cloth = clothes[0]\n",
    "print(cloth)"
   ]
  },
  {
   "cell_type": "code",
   "execution_count": 62,
   "metadata": {},
   "outputs": [
    {
     "data": {
      "text/plain": [
       "4"
      ]
     },
     "execution_count": 62,
     "metadata": {},
     "output_type": "execute_result"
    }
   ],
   "source": [
    "len(clothes)"
   ]
  },
  {
   "cell_type": "code",
   "execution_count": 63,
   "metadata": {},
   "outputs": [
    {
     "ename": "IndexError",
     "evalue": "list index out of range",
     "output_type": "error",
     "traceback": [
      "\u001b[1;31m---------------------------------------------------------------------------\u001b[0m",
      "\u001b[1;31mIndexError\u001b[0m                                Traceback (most recent call last)",
      "\u001b[1;32mC:\\Users\\RVHU32~1\\AppData\\Local\\Temp/ipykernel_6708/428737501.py\u001b[0m in \u001b[0;36m<module>\u001b[1;34m\u001b[0m\n\u001b[1;32m----> 1\u001b[1;33m \u001b[0mclothes\u001b[0m\u001b[1;33m[\u001b[0m\u001b[1;36m4\u001b[0m\u001b[1;33m]\u001b[0m\u001b[1;33m\u001b[0m\u001b[1;33m\u001b[0m\u001b[0m\n\u001b[0m",
      "\u001b[1;31mIndexError\u001b[0m: list index out of range"
     ]
    }
   ],
   "source": [
    "clothes[4]"
   ]
  },
  {
   "cell_type": "code",
   "execution_count": 64,
   "metadata": {},
   "outputs": [
    {
     "name": "stdout",
     "output_type": "stream",
     "text": [
      "['shirts', 'jacket', 'pants', 'shorts']\n",
      "['shirts', 'jacket', 'pants', 'coat']\n"
     ]
    }
   ],
   "source": [
    "print(clothes)\n",
    "clothes[3] = \"coat\"\n",
    "print(clothes)"
   ]
  },
  {
   "cell_type": "code",
   "execution_count": 65,
   "metadata": {},
   "outputs": [
    {
     "name": "stdout",
     "output_type": "stream",
     "text": [
      "[99, 86, 79, 91, 88]\n",
      "[86, 79]\n"
     ]
    }
   ],
   "source": [
    "# slicing\n",
    "\n",
    "print(scores)\n",
    "new_scores = scores[1 : 3]\n",
    "print(new_scores)"
   ]
  },
  {
   "cell_type": "code",
   "execution_count": 66,
   "metadata": {},
   "outputs": [
    {
     "name": "stdout",
     "output_type": "stream",
     "text": [
      "['John Adams', 1797, 1801]\n"
     ]
    }
   ],
   "source": [
    "person = presidents[1]\n",
    "print(person)"
   ]
  },
  {
   "cell_type": "code",
   "execution_count": 67,
   "metadata": {},
   "outputs": [
    {
     "name": "stdout",
     "output_type": "stream",
     "text": [
      "John Adams\n",
      "John Adams\n"
     ]
    }
   ],
   "source": [
    "print(person[0])\n",
    "print(presidents[1][0])"
   ]
  },
  {
   "cell_type": "code",
   "execution_count": 68,
   "metadata": {},
   "outputs": [
    {
     "name": "stdout",
     "output_type": "stream",
     "text": [
      "['George Washington', 1789, 1797]\n"
     ]
    }
   ],
   "source": [
    "print(presidents[0:2][0])   # why?"
   ]
  },
  {
   "cell_type": "code",
   "execution_count": 69,
   "metadata": {},
   "outputs": [
    {
     "name": "stdout",
     "output_type": "stream",
     "text": [
      "[['George Washington', 1789, 1797], ['John Adams', 1797, 1801]]\n"
     ]
    }
   ],
   "source": [
    "print(presidents[0:2])"
   ]
  },
  {
   "cell_type": "code",
   "execution_count": 70,
   "metadata": {},
   "outputs": [
    {
     "name": "stdout",
     "output_type": "stream",
     "text": [
      "1\n",
      "81\n"
     ]
    }
   ],
   "source": [
    "# remember, indexing returns an item\n",
    "\n",
    "# squares = [1, 4, 9, 16, 25, 36, 49, 64, 81, 100]\n",
    "squares = [1, 4, 9, 16, 25, 36, 49, 64, 81]\n",
    "print(squares[0])\n",
    "print(squares[-1])"
   ]
  },
  {
   "cell_type": "code",
   "execution_count": 71,
   "metadata": {},
   "outputs": [
    {
     "name": "stdout",
     "output_type": "stream",
     "text": [
      "[49, 64, 81]\n"
     ]
    }
   ],
   "source": [
    "# slicing returns a new list\n",
    "\n",
    "print(squares[-3:])"
   ]
  },
  {
   "cell_type": "code",
   "execution_count": 72,
   "metadata": {},
   "outputs": [
    {
     "name": "stdout",
     "output_type": "stream",
     "text": [
      "[1, 4, 9, 16, 25, 36]\n"
     ]
    }
   ],
   "source": [
    "print(squares[:-3])"
   ]
  },
  {
   "cell_type": "code",
   "execution_count": 73,
   "metadata": {},
   "outputs": [
    {
     "name": "stdout",
     "output_type": "stream",
     "text": [
      "[1, 4, 9, 16, 25, 36, 49, 64, 81]\n",
      "[81, 64, 49, 36, 25, 16, 9, 4, 1]\n"
     ]
    }
   ],
   "source": [
    "# remember, slicing - [start(inclusive) : end (exclusive) : step (default is 1)] Count 1 steps\n",
    "\n",
    "print(squares[:: 1])\n",
    "print(squares[:: -1])"
   ]
  },
  {
   "cell_type": "code",
   "execution_count": 74,
   "metadata": {},
   "outputs": [
    {
     "name": "stdout",
     "output_type": "stream",
     "text": [
      "[1, 4, 9, 16, 25, 36, 49, 64, 81]\n",
      "[9, 16, 25, 36, 49]\n",
      "[9, 25, 49]\n"
     ]
    }
   ],
   "source": [
    "print(squares)\n",
    "print(squares[2:7])\n",
    "print(squares[2:7:2])"
   ]
  },
  {
   "cell_type": "code",
   "execution_count": 75,
   "metadata": {},
   "outputs": [
    {
     "name": "stdout",
     "output_type": "stream",
     "text": [
      "[1, 4, 9, 16, 25, 36, 49, 64, 81]\n",
      "[81, 64, 49, 36, 25, 16, 9, 4, 1]\n",
      "[81, 64, 49, 36, 25, 16]\n"
     ]
    }
   ],
   "source": [
    "print(squares)             # original list\n",
    "print(squares[::-1])       # reversed order\n",
    "print(squares[:2:-1])      # squares[2] == 9, not inclusive\n",
    "                           # squares[8], [7], ... [4], [3] "
   ]
  },
  {
   "cell_type": "code",
   "execution_count": 76,
   "metadata": {},
   "outputs": [
    {
     "name": "stdout",
     "output_type": "stream",
     "text": [
      "[1, 4, 9, 16, 25, 36, 49, 64, 81]\n",
      "[81, 49, 25, 9, 1]\n",
      "[81, 49, 25]\n"
     ]
    }
   ],
   "source": [
    "print(squares)             # original list\n",
    "print(squares[::-2])       # reversed order, every other item\n",
    "print(squares[:2:-2])      # squares[2] == 9, not inclusive\n",
    "                           # squares[8], squares[6], squares[4]"
   ]
  },
  {
   "cell_type": "code",
   "execution_count": 77,
   "metadata": {},
   "outputs": [],
   "source": [
    "# initialize list\n",
    "shopping = []\n",
    "scores = [0] *10\n",
    "names = [\"\"] *5\n",
    "chars = \"\" *5"
   ]
  },
  {
   "cell_type": "code",
   "execution_count": 78,
   "metadata": {},
   "outputs": [
    {
     "name": "stdout",
     "output_type": "stream",
     "text": [
      "[] has a length of 0\n",
      "[0, 0, 0, 0, 0, 0, 0, 0, 0, 0] has a length of 10\n",
      "['', '', '', '', ''] has a length of 5\n",
      ">>><<< has a length of 0\n"
     ]
    }
   ],
   "source": [
    "print(f\"{shopping} has a length of {len(shopping)}\")\n",
    "print(f\"{scores} has a length of {len(scores)}\")\n",
    "print(f\"{names} has a length of {len(names)}\")\n",
    "print(f\">>>{chars}<<< has a length of {len(chars)}\")"
   ]
  },
  {
   "cell_type": "code",
   "execution_count": 79,
   "metadata": {},
   "outputs": [
    {
     "name": "stdout",
     "output_type": "stream",
     "text": [
      "False\n",
      "True\n",
      "True\n",
      "False\n",
      "\n",
      "False\n",
      "True\n"
     ]
    }
   ],
   "source": [
    "print(bool(shopping))\n",
    "print(bool(scores))\n",
    "print(bool(names))\n",
    "print(bool(chars))  \n",
    "\n",
    "# False == 0; True != 0\n",
    "print()\n",
    "print(bool(0))\n",
    "print(bool(9))"
   ]
  },
  {
   "cell_type": "code",
   "execution_count": 82,
   "metadata": {},
   "outputs": [
    {
     "name": "stdout",
     "output_type": "stream",
     "text": [
      "['George', 'Washington,', '1789,', '1797']\n"
     ]
    }
   ],
   "source": [
    "person = \"George Washington, 1789, 1797\"\n",
    "person_list = person.split()\n",
    "print(person_list)"
   ]
  },
  {
   "cell_type": "code",
   "execution_count": 83,
   "metadata": {},
   "outputs": [
    {
     "data": {
      "text/plain": [
       "['George Washington, 1', '89, 1', '9', '']"
      ]
     },
     "execution_count": 83,
     "metadata": {},
     "output_type": "execute_result"
    }
   ],
   "source": [
    "person.split(\"7\")"
   ]
  },
  {
   "cell_type": "code",
   "execution_count": 84,
   "metadata": {},
   "outputs": [
    {
     "data": {
      "text/plain": [
       "['George Washington', ' 1789, 1797']"
      ]
     },
     "execution_count": 84,
     "metadata": {},
     "output_type": "execute_result"
    }
   ],
   "source": [
    "person.split(\",\", 1)"
   ]
  },
  {
   "cell_type": "code",
   "execution_count": 85,
   "metadata": {},
   "outputs": [
    {
     "data": {
      "text/plain": [
       "'George Washington'"
      ]
     },
     "execution_count": 85,
     "metadata": {},
     "output_type": "execute_result"
    }
   ],
   "source": [
    "person.split(\",\", 1)[0]"
   ]
  },
  {
   "cell_type": "code",
   "execution_count": 86,
   "metadata": {},
   "outputs": [
    {
     "data": {
      "text/plain": [
       "' 1789, 1797'"
      ]
     },
     "execution_count": 86,
     "metadata": {},
     "output_type": "execute_result"
    }
   ],
   "source": [
    "person.split(\",\", 1)[1]"
   ]
  },
  {
   "cell_type": "code",
   "execution_count": 87,
   "metadata": {},
   "outputs": [
    {
     "name": "stdout",
     "output_type": "stream",
     "text": [
      "[\"I'm\", 'just', 'a', 'simple', 'man', 'trying', 'to', 'make', 'my', 'way', 'in', 'the', 'universe.']\n"
     ]
    }
   ],
   "source": [
    "msg = \"I'm just a simple man trying to make my way in the universe.\"\n",
    "msg_list = msg.split()\n",
    "print(msg_list)"
   ]
  },
  {
   "cell_type": "code",
   "execution_count": 88,
   "metadata": {},
   "outputs": [
    {
     "name": "stdout",
     "output_type": "stream",
     "text": [
      "[\"I'\", ' just a si', 'ple ', 'an trying to ', 'ake ', 'y way in the universe.']\n"
     ]
    }
   ],
   "source": [
    "msg = \"I'm just a simple man trying to make my way in the universe.\"\n",
    "msg_list = msg.split('m')\n",
    "print(msg_list)"
   ]
  },
  {
   "cell_type": "markdown",
   "metadata": {},
   "source": [
    "### List Methods \n",
    "add item to a list"
   ]
  },
  {
   "cell_type": "code",
   "execution_count": null,
   "metadata": {},
   "outputs": [],
   "source": [
    "print(squares)\n",
    "squares[len(squares)] = 100"
   ]
  },
  {
   "cell_type": "code",
   "execution_count": null,
   "metadata": {},
   "outputs": [],
   "source": [
    "# list method - append()\n",
    "\n",
    "squares.append(100)\n",
    "print(squares)"
   ]
  },
  {
   "cell_type": "code",
   "execution_count": null,
   "metadata": {},
   "outputs": [],
   "source": [
    "items = [\"shirts\", \"hat\", \"shoes\"]\n",
    "items.append(99)\n",
    "print(items)"
   ]
  },
  {
   "cell_type": "code",
   "execution_count": null,
   "metadata": {},
   "outputs": [],
   "source": [
    "print(presidents)"
   ]
  },
  {
   "cell_type": "code",
   "execution_count": null,
   "metadata": {},
   "outputs": [],
   "source": [
    "person = []\n",
    "person.append(\"James Monroe\")\n",
    "person.append(1817)\n",
    "person.append(1825)\n",
    "print(person)"
   ]
  },
  {
   "cell_type": "code",
   "execution_count": null,
   "metadata": {},
   "outputs": [],
   "source": [
    "presidents.append(person)\n",
    "print(presidents)"
   ]
  },
  {
   "cell_type": "code",
   "execution_count": null,
   "metadata": {},
   "outputs": [],
   "source": [
    "person = []\n",
    "person.append(1809)\n",
    "person.append(1817)\n",
    "print(person)"
   ]
  },
  {
   "cell_type": "code",
   "execution_count": null,
   "metadata": {},
   "outputs": [],
   "source": [
    "# list method - insert()\n",
    "\n",
    "person.insert(0, \"James Madison\")\n",
    "print(person)"
   ]
  },
  {
   "cell_type": "code",
   "execution_count": null,
   "metadata": {},
   "outputs": [],
   "source": [
    "print(presidents)"
   ]
  },
  {
   "cell_type": "code",
   "execution_count": null,
   "metadata": {},
   "outputs": [],
   "source": [
    "presidents.insert(3, person)\n",
    "print(presidents)"
   ]
  },
  {
   "cell_type": "code",
   "execution_count": null,
   "metadata": {},
   "outputs": [],
   "source": [
    "# list method - extend()\n",
    "\n",
    "names = ['George Washington', 'John Adams', 'Thomas Jefferson']\n",
    "more_names = ['James Madison', 'James Monroe']\n",
    "\n",
    "org_names = names.copy()\n",
    "\n",
    "names.extend(more_names)\n",
    "\n",
    "print(f\"org_names:  {org_names}\")\n",
    "print(f\"names:      {names}\")\n",
    "print(f\"more_names: {more_names}\")"
   ]
  },
  {
   "cell_type": "code",
   "execution_count": null,
   "metadata": {},
   "outputs": [],
   "source": [
    "more_names.append(\"test\")\n",
    "\n",
    "print(f\"org_names:  {org_names}\")\n",
    "print(f\"names:      {names}\")\n",
    "print(f\"more_names: {more_names}\")"
   ]
  },
  {
   "cell_type": "code",
   "execution_count": null,
   "metadata": {},
   "outputs": [],
   "source": [
    "spring = [\"March\", \"April\", \"May\"]\n",
    "summer = [\"June\", \"July\", \"Aug\"]\n",
    "fall = [\"September\", \"October\", \"November\"]\n",
    "winter = [\"December\", \"January\", \"February\"]\n",
    "\n",
    "year = spring.copy()\n",
    "year.extend(summer)\n",
    "year.extend(fall)\n",
    "year.extend(winter)\n",
    "\n",
    "print(year)"
   ]
  },
  {
   "cell_type": "code",
   "execution_count": null,
   "metadata": {},
   "outputs": [],
   "source": [
    "print(spring, summer, fall, winter)"
   ]
  },
  {
   "cell_type": "code",
   "execution_count": null,
   "metadata": {},
   "outputs": [],
   "source": [
    "spr = spring.copy()\n",
    "spr.extend(\"June\")\n",
    "print(spr)     # what do you think?"
   ]
  },
  {
   "cell_type": "code",
   "execution_count": null,
   "metadata": {},
   "outputs": [],
   "source": [
    "spr = spring.copy()\n",
    "spr.extend([\"June\"])\n",
    "print(spr)     "
   ]
  },
  {
   "cell_type": "code",
   "execution_count": null,
   "metadata": {},
   "outputs": [],
   "source": [
    "# list method - index()\n",
    "print(person)\n",
    "person.index(\"James Madison\")"
   ]
  },
  {
   "cell_type": "code",
   "execution_count": null,
   "metadata": {},
   "outputs": [],
   "source": [
    "person.index(1809)"
   ]
  },
  {
   "cell_type": "code",
   "execution_count": null,
   "metadata": {},
   "outputs": [],
   "source": [
    "person.index(1819)"
   ]
  },
  {
   "cell_type": "code",
   "execution_count": null,
   "metadata": {},
   "outputs": [],
   "source": [
    "print(person)\n",
    "print(presidents.index(person))\n",
    "print(presidents)"
   ]
  },
  {
   "cell_type": "code",
   "execution_count": null,
   "metadata": {},
   "outputs": [],
   "source": [
    "print(presidents.index(['James Madison', 1809, 1817]))"
   ]
  },
  {
   "cell_type": "code",
   "execution_count": null,
   "metadata": {},
   "outputs": [],
   "source": [
    "print(presidents.index(['james madison', 1809, 1817]))"
   ]
  },
  {
   "cell_type": "code",
   "execution_count": null,
   "metadata": {},
   "outputs": [],
   "source": [
    "scores = [100, 99, 89, 99, 78]\n",
    "print(scores.index(99))"
   ]
  },
  {
   "cell_type": "code",
   "execution_count": null,
   "metadata": {},
   "outputs": [],
   "source": [
    "# list method - copy()\n",
    "\n",
    "clothes = ['shirts', 'jacket', 'pants', 'shorts']\n",
    "org_clothes = clothes\n",
    "clothes.append('coat')"
   ]
  },
  {
   "cell_type": "code",
   "execution_count": null,
   "metadata": {},
   "outputs": [],
   "source": [
    "print(clothes)\n",
    "print()\n",
    "print(org_clothes)"
   ]
  },
  {
   "cell_type": "code",
   "execution_count": null,
   "metadata": {},
   "outputs": [],
   "source": [
    "clothes = ['shirts', 'jacket', 'pants', 'shorts']\n",
    "org_clothes = clothes.copy()\n",
    "clothes.append('coat')\n",
    "\n",
    "print(clothes)\n",
    "print()\n",
    "print(org_clothes)"
   ]
  },
  {
   "cell_type": "markdown",
   "metadata": {},
   "source": [
    "### Exercise 2\n",
    "    1. Ask a user for 2 numbers. \n",
    "    2. Generate 5 random numbers between those 2 numbers and save it to a list called nos1. \n",
    "    3. Generate 3 random numbers between those 2 numbers and save it to a list called nos2. \n",
    "    4. Make a copy of nos1 and save it to variable called all_nos.\n",
    "    5. Extend nos2 to the end of nos1.\n",
    "    6. Print original 5 random numbers, 3 random numbers, and all 8 numbers.\n",
    "    "
   ]
  },
  {
   "cell_type": "code",
   "execution_count": null,
   "metadata": {},
   "outputs": [],
   "source": [
    "# ask a user for 2 numbers - do you need to import anything?\n"
   ]
  },
  {
   "cell_type": "code",
   "execution_count": null,
   "metadata": {},
   "outputs": [],
   "source": [
    "# generate 5 random numbers between those 2 numbers and save it to a list called nos1\n",
    "\n"
   ]
  },
  {
   "cell_type": "code",
   "execution_count": null,
   "metadata": {},
   "outputs": [],
   "source": [
    "# generate 3 random numbers between those 2 numbers and save it to a list called nos2\n",
    "\n"
   ]
  },
  {
   "cell_type": "code",
   "execution_count": null,
   "metadata": {},
   "outputs": [],
   "source": [
    "# copy nos1 and save to all_nos\n",
    "all_nos = nos1.copy()"
   ]
  },
  {
   "cell_type": "code",
   "execution_count": null,
   "metadata": {},
   "outputs": [],
   "source": [
    "# extend nos2 to the end of all_nos\n",
    "\n"
   ]
  },
  {
   "cell_type": "code",
   "execution_count": null,
   "metadata": {},
   "outputs": [],
   "source": [
    "# print original 5 random numbers, 3 random numbers, and all 8 numbers\n",
    "\n",
    "print(f\"5 random numbers: {nos1}\")\n",
    "print(f\"3 random numbers: {nos2}\")\n",
    "print(f\"All random numbers: {all_nos}\")"
   ]
  },
  {
   "cell_type": "markdown",
   "metadata": {},
   "source": [
    "### List Methods\n",
    "remove item in a list"
   ]
  },
  {
   "cell_type": "code",
   "execution_count": null,
   "metadata": {},
   "outputs": [],
   "source": [
    "# pop()\n",
    "\n",
    "clothes = ['shirts', 'jacket', 'pants', 'shorts', 'coat']\n",
    "org_clothes = clothes.copy()"
   ]
  },
  {
   "cell_type": "code",
   "execution_count": null,
   "metadata": {},
   "outputs": [],
   "source": [
    "item = clothes.pop()\n",
    "print(item)\n",
    "print(clothes)"
   ]
  },
  {
   "cell_type": "code",
   "execution_count": null,
   "metadata": {},
   "outputs": [],
   "source": [
    "item = clothes.pop(2)\n",
    "print(item)\n",
    "print(clothes)"
   ]
  },
  {
   "cell_type": "code",
   "execution_count": null,
   "metadata": {},
   "outputs": [],
   "source": [
    "item = clothes.pop(-1)\n",
    "print(item)\n",
    "print(clothes)"
   ]
  },
  {
   "cell_type": "code",
   "execution_count": null,
   "metadata": {},
   "outputs": [],
   "source": [
    "item = clothes.pop(9)\n",
    "print(item)\n",
    "print(clothes)"
   ]
  },
  {
   "cell_type": "code",
   "execution_count": null,
   "metadata": {},
   "outputs": [],
   "source": [
    "# remove()\n",
    "\n",
    "clothes.remove(\"jacket\")\n",
    "print(clothes)"
   ]
  },
  {
   "cell_type": "code",
   "execution_count": null,
   "metadata": {},
   "outputs": [],
   "source": [
    "clothes.append(item)\n",
    "clothes.insert(1, item)\n",
    "clothes.append(item)\n",
    "print(clothes)"
   ]
  },
  {
   "cell_type": "code",
   "execution_count": null,
   "metadata": {},
   "outputs": [],
   "source": [
    "clothes.remove(\"pants\")\n",
    "print(clothes)"
   ]
  },
  {
   "cell_type": "code",
   "execution_count": null,
   "metadata": {},
   "outputs": [],
   "source": [
    "clothes.remove(\"jacket\")"
   ]
  },
  {
   "cell_type": "code",
   "execution_count": null,
   "metadata": {},
   "outputs": [],
   "source": [
    "# count()\n",
    "\n",
    "\"pants\" in clothes"
   ]
  },
  {
   "cell_type": "code",
   "execution_count": null,
   "metadata": {},
   "outputs": [],
   "source": [
    "clothes.count(\"pants\")"
   ]
  },
  {
   "cell_type": "code",
   "execution_count": null,
   "metadata": {},
   "outputs": [],
   "source": [
    "clothes.count(\"jacket\")"
   ]
  },
  {
   "cell_type": "code",
   "execution_count": null,
   "metadata": {},
   "outputs": [],
   "source": [
    "scores = [88, 94, 91, 90, 91, 75, 91, 85]\n",
    "scores.count(91)"
   ]
  },
  {
   "cell_type": "code",
   "execution_count": null,
   "metadata": {},
   "outputs": [],
   "source": [
    "scores.count(100)"
   ]
  },
  {
   "cell_type": "code",
   "execution_count": null,
   "metadata": {},
   "outputs": [],
   "source": [
    "# list method - sort() will sort in-place\n",
    "org_names = names.copy()\n",
    "names.sort()\n",
    "\n",
    "print(f\"names:     {names}\")\n",
    "print(f\"org_names: {org_names}\")"
   ]
  },
  {
   "cell_type": "code",
   "execution_count": null,
   "metadata": {},
   "outputs": [],
   "source": [
    "names = org_names.copy()\n",
    "names.sort(reverse=True)\n",
    "\n",
    "print(f\"names:     {names}\")\n",
    "print(f\"org_names: {org_names}\")"
   ]
  },
  {
   "cell_type": "code",
   "execution_count": null,
   "metadata": {},
   "outputs": [],
   "source": [
    "# sorted() is a built-in function\n",
    "\n",
    "names = org_names.copy()\n",
    "print(f\"Before: {names}\")\n",
    "ordered = sorted(names)\n",
    "print(f\"After:  {ordered}\")"
   ]
  },
  {
   "cell_type": "code",
   "execution_count": null,
   "metadata": {},
   "outputs": [],
   "source": [
    "print(f\"Before: {president1}\")\n",
    "ordered = sorted(president1)\n",
    "print(f\"After:  {ordered}\")"
   ]
  },
  {
   "cell_type": "code",
   "execution_count": null,
   "metadata": {},
   "outputs": [],
   "source": [
    "print(f\"Before:\\n{presidents}\")\n",
    "ordered = sorted(presidents)\n",
    "print(f\"\\nAfter:\\n{ordered}\")"
   ]
  },
  {
   "cell_type": "code",
   "execution_count": null,
   "metadata": {},
   "outputs": [],
   "source": [
    "l1 = [ 1, 11, 111]\n",
    "l2 = [1, 12]\n",
    "l3 = [1, 12, 124]\n",
    "\n",
    "test = [l2, l1, l3]\n",
    "org_test = test.copy()"
   ]
  },
  {
   "cell_type": "code",
   "execution_count": null,
   "metadata": {},
   "outputs": [],
   "source": [
    "print(f\"Before: {test}\")\n",
    "ordered = sorted(test)\n",
    "print(f\"After:  {ordered}\")"
   ]
  },
  {
   "cell_type": "code",
   "execution_count": null,
   "metadata": {},
   "outputs": [],
   "source": [
    "# list is a mutable data type\n",
    "\n",
    "def replace(sample, index) :\n",
    "    sample[index] = '*'\n",
    "    \n",
    "orig = [1, 2, 3]\n",
    "print(orig)\n",
    "replace(orig, 1)\n",
    "print(orig)\n",
    "    "
   ]
  },
  {
   "cell_type": "code",
   "execution_count": null,
   "metadata": {},
   "outputs": [],
   "source": [
    "def xfer(arg1, arg2) :\n",
    "    print(f\"entered xfer():arg1={arg1}, arg2={arg2}\")\n",
    "    temp = arg1\n",
    "    arg1 = arg2\n",
    "    arg2 = temp\n",
    "    print(f\"exiting xfer():arg1={arg1}, arg2={arg2}\")\n",
    "    \n",
    "x = 5\n",
    "y = [1, 2, 3]\n",
    "xfer(x, y)\n",
    "\n",
    "print(x, y, sep=\"\\n\")"
   ]
  },
  {
   "cell_type": "code",
   "execution_count": null,
   "metadata": {},
   "outputs": [],
   "source": [
    "# data types (integer, float, string) are not mutable but list is \n",
    "\n",
    "\n",
    "def xfer2(arg1, arg2) :\n",
    "    print(f\"entered xfer2():arg1={arg1}, arg2={arg2}\")\n",
    "    arg1 *= 2\n",
    "    arg2[0] = arg1\n",
    "    print(f\"exiting xfer2():arg1={arg1}, arg2={arg2}\")\n",
    "    \n",
    "    \n",
    "x = 5\n",
    "y = [1, 2, 3]\n",
    "xfer2(x, y)\n",
    "\n",
    "print(f\"\\nx={x} y={y}\")"
   ]
  },
  {
   "cell_type": "markdown",
   "metadata": {},
   "source": [
    "### Exercise 3\n",
    "Get 7 book tittles from a user and save it in a list.\n",
    "Then, remove the title in the middle of the list after sorting them alphabetically. \n",
    "Display the original tittles, sorted tittles, and titles after removing one."
   ]
  },
  {
   "cell_type": "code",
   "execution_count": null,
   "metadata": {},
   "outputs": [],
   "source": []
  },
  {
   "cell_type": "code",
   "execution_count": null,
   "metadata": {},
   "outputs": [],
   "source": []
  }
 ],
 "metadata": {
  "kernelspec": {
   "display_name": "Python 3 (ipykernel)",
   "language": "python",
   "name": "python3"
  },
  "language_info": {
   "codemirror_mode": {
    "name": "ipython",
    "version": 3
   },
   "file_extension": ".py",
   "mimetype": "text/x-python",
   "name": "python",
   "nbconvert_exporter": "python",
   "pygments_lexer": "ipython3",
   "version": "3.9.7"
  }
 },
 "nbformat": 4,
 "nbformat_minor": 2
}
