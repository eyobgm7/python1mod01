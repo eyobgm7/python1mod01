{
 "cells": [
  {
   "cell_type": "markdown",
   "metadata": {},
   "source": [
    "### Dictionary\n",
    "1. A dictionary item is a key-value pair so the key must be unique, but the values can be the same or different\n",
    "2. Dictionaries use curly brackets to hold their information.\n"
   ]
  },
  {
   "cell_type": "code",
   "execution_count": 1,
   "metadata": {},
   "outputs": [
    {
     "name": "stdout",
     "output_type": "stream",
     "text": [
      "{'name': 'Big Bird', 'age': 39, 'height': 74}\n"
     ]
    }
   ],
   "source": [
    "person = {'name': 'Big Bird', 'age': 39, 'height': 6 * 12 + 2}\n",
    "print(person)"
   ]
  },
  {
   "cell_type": "code",
   "execution_count": 2,
   "metadata": {},
   "outputs": [
    {
     "name": "stdout",
     "output_type": "stream",
     "text": [
      "3\n"
     ]
    }
   ],
   "source": [
    "print(len(person))"
   ]
  },
  {
   "cell_type": "code",
   "execution_count": 3,
   "metadata": {},
   "outputs": [
    {
     "name": "stdout",
     "output_type": "stream",
     "text": [
      "{'prod id': '12365401', 'brand': 'Browny', 'qty': 97, 'price': 15.99}\n"
     ]
    }
   ],
   "source": [
    "product = {\"prod id\" : \"12365401\", \"brand\" : \"Browny\", \n",
    "           \"qty\" : 97, \"price\" : 15.99}\n",
    "print(product)"
   ]
  },
  {
   "cell_type": "code",
   "execution_count": 4,
   "metadata": {},
   "outputs": [
    {
     "name": "stdout",
     "output_type": "stream",
     "text": [
      "{1: 'uno', 2: 'dos', 3: 'tres'}\n"
     ]
    }
   ],
   "source": [
    "spanish_123 = { 1:\"uno\", 2:\"dos\", 3:\"tres\"}\n",
    "print(spanish_123)"
   ]
  },
  {
   "cell_type": "code",
   "execution_count": 5,
   "metadata": {},
   "outputs": [
    {
     "name": "stdout",
     "output_type": "stream",
     "text": [
      "{'python': ['Python 1', 'Python 2', 'Data Analytics Bootcamp', 'Data Analytics Advanced'], 'java': ['Java Programming', 'Java Web Development']}\n"
     ]
    }
   ],
   "source": [
    "python = ['Python 1', \n",
    "           'Python 2', \n",
    "           'Data Analytics Bootcamp', \n",
    "           'Data Analytics Advanced']\n",
    "\n",
    "java = ['Java Programming', 'Java Web Development']\n",
    "\n",
    "options = {\"python\" : python, \"java\" : java}\n",
    "print(options)"
   ]
  },
  {
   "cell_type": "code",
   "execution_count": 6,
   "metadata": {},
   "outputs": [],
   "source": [
    "country1 = {\"country\": \"USA\", \"capital\" : \"Washington DC\"}\n",
    "country2 = {\"country\": \"Thailand\", \"capital\" : \"Bangkok\"}\n",
    "country3 = {\"country\": \"Canada\", \"capital\" : \"Ottawa\"}\n",
    "country4 = {\"country\": \"Iceland\", \"capital\" : \"Reykjavik\"}\n",
    "country5 = {\"country\": \"Dominican Republic\", \"capital\" : \"Santo Domingo\"}\n",
    "country6 = {\"country\": \"England\", \"capital\" : \"London\"}"
   ]
  },
  {
   "cell_type": "code",
   "execution_count": 7,
   "metadata": {},
   "outputs": [
    {
     "name": "stdout",
     "output_type": "stream",
     "text": [
      "[{'country': 'USA', 'capital': 'Washington DC'}, {'country': 'Thailand', 'capital': 'Bangkok'}, {'country': 'Canada', 'capital': 'Ottawa'}, {'country': 'Iceland', 'capital': 'Reykjavik'}, {'country': 'Dominican Republic', 'capital': 'Santo Domingo'}]\n"
     ]
    }
   ],
   "source": [
    "travel = [country1, country2, country3, country4, country5]\n",
    "print(travel)"
   ]
  },
  {
   "cell_type": "code",
   "execution_count": 8,
   "metadata": {},
   "outputs": [
    {
     "name": "stdout",
     "output_type": "stream",
     "text": [
      "{'country': {'CA': 'Canada', 'US': 'United States'}, 'states': {'AL': 'Alabama', 'MD': 'Maryland', 'VA': 'Virginia'}}\n"
     ]
    }
   ],
   "source": [
    "north_america = {\"CA\":\"Canada\", \"US\":\"United States\"}\n",
    "states = {\"AL\" : \"Alabama\", \"MD\" : \"Maryland\", \"VA\" : \"Virginia\"}\n",
    "temp_dict = {\"country\" : north_america, \"states\" : states}\n",
    "print(temp_dict)"
   ]
  },
  {
   "cell_type": "code",
   "execution_count": 9,
   "metadata": {},
   "outputs": [
    {
     "name": "stdout",
     "output_type": "stream",
     "text": [
      "{1: 'who?', 'item': 'coffee'}\n"
     ]
    }
   ],
   "source": [
    "# unique key\n",
    "misc = { 1:\"uno\", \"item\" : \"coffee\", 1 : \"one\", 1 : \"who?\"}\n",
    "print(misc)"
   ]
  },
  {
   "cell_type": "code",
   "execution_count": 10,
   "metadata": {},
   "outputs": [
    {
     "name": "stdout",
     "output_type": "stream",
     "text": [
      "who?\n"
     ]
    }
   ],
   "source": [
    "print(misc[1])"
   ]
  },
  {
   "cell_type": "code",
   "execution_count": 11,
   "metadata": {},
   "outputs": [
    {
     "ename": "KeyError",
     "evalue": "2",
     "output_type": "error",
     "traceback": [
      "\u001b[1;31m---------------------------------------------------------------------------\u001b[0m",
      "\u001b[1;31mKeyError\u001b[0m                                  Traceback (most recent call last)",
      "\u001b[1;32mC:\\Users\\RVHU32~1\\AppData\\Local\\Temp/ipykernel_12812/2469253121.py\u001b[0m in \u001b[0;36m<module>\u001b[1;34m\u001b[0m\n\u001b[1;32m----> 1\u001b[1;33m \u001b[0mprint\u001b[0m\u001b[1;33m(\u001b[0m\u001b[0mmisc\u001b[0m\u001b[1;33m[\u001b[0m\u001b[1;36m2\u001b[0m\u001b[1;33m]\u001b[0m\u001b[1;33m)\u001b[0m\u001b[1;33m\u001b[0m\u001b[1;33m\u001b[0m\u001b[0m\n\u001b[0m",
      "\u001b[1;31mKeyError\u001b[0m: 2"
     ]
    }
   ],
   "source": [
    "print(misc[2])  # Coffee ??? "
   ]
  },
  {
   "cell_type": "code",
   "execution_count": 12,
   "metadata": {},
   "outputs": [
    {
     "ename": "KeyError",
     "evalue": "0",
     "output_type": "error",
     "traceback": [
      "\u001b[1;31m---------------------------------------------------------------------------\u001b[0m",
      "\u001b[1;31mKeyError\u001b[0m                                  Traceback (most recent call last)",
      "\u001b[1;32mC:\\Users\\RVHU32~1\\AppData\\Local\\Temp/ipykernel_12812/2901528517.py\u001b[0m in \u001b[0;36m<module>\u001b[1;34m\u001b[0m\n\u001b[1;32m----> 1\u001b[1;33m \u001b[0mprint\u001b[0m\u001b[1;33m(\u001b[0m\u001b[0mmisc\u001b[0m\u001b[1;33m[\u001b[0m\u001b[1;36m0\u001b[0m\u001b[1;33m]\u001b[0m\u001b[1;33m)\u001b[0m   \u001b[1;31m# not indexed\u001b[0m\u001b[1;33m\u001b[0m\u001b[1;33m\u001b[0m\u001b[0m\n\u001b[0m",
      "\u001b[1;31mKeyError\u001b[0m: 0"
     ]
    }
   ],
   "source": [
    "print(misc[0])   # not indexed"
   ]
  },
  {
   "cell_type": "code",
   "execution_count": 13,
   "metadata": {},
   "outputs": [
    {
     "name": "stdout",
     "output_type": "stream",
     "text": [
      "{'AL': 'Alabama', 'MD': 'Maryland', 'VA': 'Virginia'}\n",
      "Alabama\n"
     ]
    },
    {
     "ename": "KeyError",
     "evalue": "'AZ'",
     "output_type": "error",
     "traceback": [
      "\u001b[1;31m---------------------------------------------------------------------------\u001b[0m",
      "\u001b[1;31mKeyError\u001b[0m                                  Traceback (most recent call last)",
      "\u001b[1;32mC:\\Users\\RVHU32~1\\AppData\\Local\\Temp/ipykernel_12812/2217917827.py\u001b[0m in \u001b[0;36m<module>\u001b[1;34m\u001b[0m\n\u001b[0;32m      1\u001b[0m \u001b[0mprint\u001b[0m\u001b[1;33m(\u001b[0m\u001b[0mstates\u001b[0m\u001b[1;33m)\u001b[0m\u001b[1;33m\u001b[0m\u001b[1;33m\u001b[0m\u001b[0m\n\u001b[0;32m      2\u001b[0m \u001b[0mprint\u001b[0m\u001b[1;33m(\u001b[0m\u001b[0mstates\u001b[0m\u001b[1;33m[\u001b[0m\u001b[1;34m\"AL\"\u001b[0m\u001b[1;33m]\u001b[0m\u001b[1;33m)\u001b[0m\u001b[1;33m\u001b[0m\u001b[1;33m\u001b[0m\u001b[0m\n\u001b[1;32m----> 3\u001b[1;33m \u001b[0mprint\u001b[0m\u001b[1;33m(\u001b[0m\u001b[0mstates\u001b[0m\u001b[1;33m[\u001b[0m\u001b[1;34m\"AZ\"\u001b[0m\u001b[1;33m]\u001b[0m\u001b[1;33m)\u001b[0m\u001b[1;33m\u001b[0m\u001b[1;33m\u001b[0m\u001b[0m\n\u001b[0m",
      "\u001b[1;31mKeyError\u001b[0m: 'AZ'"
     ]
    }
   ],
   "source": [
    "print(states)\n",
    "print(states[\"AL\"])\n",
    "print(states[\"AZ\"])    # AZ is not in State list"
   ]
  },
  {
   "cell_type": "code",
   "execution_count": 14,
   "metadata": {},
   "outputs": [
    {
     "data": {
      "text/plain": [
       "True"
      ]
     },
     "execution_count": 14,
     "metadata": {},
     "output_type": "execute_result"
    }
   ],
   "source": [
    "\"MD\" in states  # checking all keys"
   ]
  },
  {
   "cell_type": "code",
   "execution_count": 15,
   "metadata": {},
   "outputs": [
    {
     "data": {
      "text/plain": [
       "False"
      ]
     },
     "execution_count": 15,
     "metadata": {},
     "output_type": "execute_result"
    }
   ],
   "source": [
    "\"NY\" in states"
   ]
  },
  {
   "cell_type": "code",
   "execution_count": 16,
   "metadata": {},
   "outputs": [
    {
     "name": "stdout",
     "output_type": "stream",
     "text": [
      "Unknown\n"
     ]
    }
   ],
   "source": [
    "if \"NY\" in states :\n",
    "    state = states[\"NY\"]\n",
    "else :\n",
    "    state = \"Unknown\"\n",
    "    \n",
    "print(state)    "
   ]
  },
  {
   "cell_type": "code",
   "execution_count": 19,
   "metadata": {},
   "outputs": [
    {
     "name": "stdout",
     "output_type": "stream",
     "text": [
      "Maryland\n"
     ]
    }
   ],
   "source": [
    "key = \"MD\"\n",
    "if key in states :\n",
    "    state = states[key]\n",
    "else :\n",
    "    state = \"Unknown\"\n",
    "    \n",
    "print(state)    "
   ]
  },
  {
   "cell_type": "code",
   "execution_count": 20,
   "metadata": {},
   "outputs": [
    {
     "name": "stdout",
     "output_type": "stream",
     "text": [
      "{1: 12345, 2: 'Hello', 'grade': 'A'}\n"
     ]
    }
   ],
   "source": [
    "# Adding to a dictionary, starting from empty dictionary\n",
    "student = {}\n",
    "\n",
    "# look at the syntax\n",
    "# we use brackets to either call or create new keys in our dictionary\n",
    "# The new keys have to be unique or else you update the same key with a new value\n",
    "\n",
    "student[1] = 12345         # add in a new key and value, both a number\n",
    "student[2] = 'Hello'    # add another but this time the value is a string\n",
    "student['grade'] = 'A'  # add another but this time with a string key and string value\n",
    "\n",
    "#lets print out the dictionary and see whats inside now\n",
    "print(student)"
   ]
  },
  {
   "cell_type": "code",
   "execution_count": 21,
   "metadata": {},
   "outputs": [
    {
     "name": "stdout",
     "output_type": "stream",
     "text": [
      "{1: 12345, 2: 'Hello', 'grade': 'A', 'hobbies': ['hiking', 'tennis', 'foodie']}\n",
      "['hiking', 'tennis', 'foodie']\n"
     ]
    }
   ],
   "source": [
    "# add list as a value\n",
    "\n",
    "hobbies = [\"hiking\", \"tennis\", \"foodie\"]\n",
    "student[\"hobbies\"] = hobbies\n",
    "print(student)\n",
    "print(student[\"hobbies\"])"
   ]
  },
  {
   "cell_type": "code",
   "execution_count": 22,
   "metadata": {},
   "outputs": [
    {
     "name": "stdout",
     "output_type": "stream",
     "text": [
      "{1: 12345, 2: 'Hello', 'grade': 'A', 'hobbies': ['hiking', 'tennis', 'foodie'], 'gpa': 3.5}\n"
     ]
    }
   ],
   "source": [
    "# change value\n",
    "student[\"gpa\"] = 3.5\n",
    "print(student)"
   ]
  },
  {
   "cell_type": "code",
   "execution_count": 23,
   "metadata": {},
   "outputs": [
    {
     "name": "stdout",
     "output_type": "stream",
     "text": [
      "{1: 12345, 2: 'Hello', 'grade': 'A', 'hobbies': ['hiking', 'tennis', 'foodie'], 'gpa': 3.55}\n"
     ]
    }
   ],
   "source": [
    "student[\"gpa\"] = 3.55\n",
    "print(student)"
   ]
  },
  {
   "cell_type": "code",
   "execution_count": 24,
   "metadata": {},
   "outputs": [
    {
     "name": "stdout",
     "output_type": "stream",
     "text": [
      "['hiking', 'tennis', 'foodie']\n"
     ]
    }
   ],
   "source": [
    "print(student[\"hobbies\"])"
   ]
  },
  {
   "cell_type": "code",
   "execution_count": 25,
   "metadata": {},
   "outputs": [
    {
     "name": "stdout",
     "output_type": "stream",
     "text": [
      "['hiking', 'tennis', 'foodie', 'binge watching']\n"
     ]
    }
   ],
   "source": [
    "student[\"hobbies\"].append(\"binge watching\")   # use list method\n",
    "print(student[\"hobbies\"])"
   ]
  },
  {
   "cell_type": "code",
   "execution_count": 26,
   "metadata": {},
   "outputs": [
    {
     "name": "stdout",
     "output_type": "stream",
     "text": [
      "{1: 12345, 2: 'Hello', 'grade': 'A', 'hobbies': ['movies', 'tennis', 'foodie', 'binge watching'], 'gpa': 3.55}\n"
     ]
    }
   ],
   "source": [
    "student[\"hobbies\"][0] = 'movies'         # use indexing for list\n",
    "print(student)"
   ]
  },
  {
   "cell_type": "code",
   "execution_count": 27,
   "metadata": {},
   "outputs": [
    {
     "name": "stdout",
     "output_type": "stream",
     "text": [
      "A\n"
     ]
    }
   ],
   "source": [
    "# access an item\n",
    "grade = student[\"grade\"]\n",
    "print(grade)"
   ]
  },
  {
   "cell_type": "code",
   "execution_count": 28,
   "metadata": {},
   "outputs": [
    {
     "ename": "KeyError",
     "evalue": "'major'",
     "output_type": "error",
     "traceback": [
      "\u001b[1;31m---------------------------------------------------------------------------\u001b[0m",
      "\u001b[1;31mKeyError\u001b[0m                                  Traceback (most recent call last)",
      "\u001b[1;32mC:\\Users\\RVHU32~1\\AppData\\Local\\Temp/ipykernel_12812/1724595440.py\u001b[0m in \u001b[0;36m<module>\u001b[1;34m\u001b[0m\n\u001b[1;32m----> 1\u001b[1;33m \u001b[0mmajor\u001b[0m \u001b[1;33m=\u001b[0m \u001b[0mstudent\u001b[0m\u001b[1;33m[\u001b[0m\u001b[1;34m\"major\"\u001b[0m\u001b[1;33m]\u001b[0m\u001b[1;33m\u001b[0m\u001b[1;33m\u001b[0m\u001b[0m\n\u001b[0m\u001b[0;32m      2\u001b[0m \u001b[0mprint\u001b[0m\u001b[1;33m(\u001b[0m\u001b[0mmajor\u001b[0m\u001b[1;33m)\u001b[0m\u001b[1;33m\u001b[0m\u001b[1;33m\u001b[0m\u001b[0m\n",
      "\u001b[1;31mKeyError\u001b[0m: 'major'"
     ]
    }
   ],
   "source": [
    "major = student[\"major\"]   # major not introduced \n",
    "print(major)"
   ]
  },
  {
   "cell_type": "code",
   "execution_count": 29,
   "metadata": {},
   "outputs": [
    {
     "name": "stdout",
     "output_type": "stream",
     "text": [
      "{1: 12345, 2: 'Hello', 'grade': 'A', 'hobbies': ['movies', 'tennis', 'foodie', 'binge watching'], 'gpa': 3.55, 'classes': [{'name': 'English', 'grade': 'A'}, {'name': 'Math', 'grade': 'B'}]}\n"
     ]
    }
   ],
   "source": [
    "class1 = {\"name\" : \"English\", \"grade\" : \"A\"}\n",
    "class2 = {\"name\" : \"Math\", \"grade\" : \"B\"}\n",
    "classes = [class1, class2]\n",
    "student[\"classes\"] = classes\n",
    "print(student)"
   ]
  },
  {
   "cell_type": "code",
   "execution_count": 30,
   "metadata": {},
   "outputs": [
    {
     "name": "stdout",
     "output_type": "stream",
     "text": [
      "{1: 12345, 2: 'Hello', 'grade': 'A', 'hobbies': ['movies', 'tennis', 'foodie', 'binge watching'], 'gpa': 3.55, 'classes': [{'name': 'Math', 'grade': 'B'}, {'name': 'English', 'grade': 'A'}]}\n"
     ]
    }
   ],
   "source": [
    "classes = [class2, class1]\n",
    "student[\"classes\"] = classes\n",
    "print(student)"
   ]
  },
  {
   "cell_type": "markdown",
   "metadata": {},
   "source": [
    "### Exercise 1\n",
    "Create an empty dictionary named book.  Then, store information about a book’s title, authors, genre and ISBN. Print out the dictionary\n"
   ]
  },
  {
   "cell_type": "code",
   "execution_count": 31,
   "metadata": {},
   "outputs": [
    {
     "name": "stdout",
     "output_type": "stream",
     "text": [
      "{'title': 'Love your self', 'author': 'lilly', 'genre': 'fiction', 'ISBN': 123456789}\n"
     ]
    }
   ],
   "source": [
    "book = {}\n",
    "book[\"title\"] = \"Love your self\"\n",
    "book[\"author\"] = \"lilly\"\n",
    "book[\"genre\"] = \"fiction\"\n",
    "book[\"ISBN\"] = \"123456789\"\n",
    "\n",
    "print(book)\n"
   ]
  },
  {
   "cell_type": "markdown",
   "metadata": {},
   "source": [
    "### Dictionary Methods\n",
    "retrieve value based on key"
   ]
  },
  {
   "cell_type": "code",
   "execution_count": 32,
   "metadata": {},
   "outputs": [
    {
     "name": "stdout",
     "output_type": "stream",
     "text": [
      "{'title': 'Storytelling with Data', 'authors': ['Cole Nussbaumer Knaflic'], 'genre': 'business', 'ISBN': '1119002257'}\n"
     ]
    }
   ],
   "source": [
    "book = {}\n",
    "book[\"title\"] = \"Storytelling with Data\"\n",
    "book[\"authors\"] = [\"Cole Nussbaumer Knaflic\"]\n",
    "book[\"genre\"] = \"business\"\n",
    "book[\"ISBN\"] = \"1119002257\"\n",
    "print(book)"
   ]
  },
  {
   "cell_type": "code",
   "execution_count": 33,
   "metadata": {},
   "outputs": [
    {
     "name": "stdout",
     "output_type": "stream",
     "text": [
      "Title: \t\tStorytelling with Data\n",
      "authors: \t['Cole Nussbaumer Knaflic']\n",
      "genre: \t\tbusiness\n",
      "ISBN: \t\t1119002257\n"
     ]
    }
   ],
   "source": [
    "print(f\"Title: \\t\\t{book['title']}\")\n",
    "print(f\"authors: \\t{book['authors']}\")\n",
    "print(f\"genre: \\t\\t{book['genre']}\")\n",
    "print(f\"ISBN: \\t\\t{book['ISBN']}\")\n"
   ]
  },
  {
   "cell_type": "code",
   "execution_count": 34,
   "metadata": {},
   "outputs": [
    {
     "name": "stdout",
     "output_type": "stream",
     "text": [
      "Title: \tStorytelling with Data\n"
     ]
    }
   ],
   "source": [
    "# using get() method\n",
    "\n",
    "title = book.get('title')\n",
    "print(f\"Title: \\t{title}\")\n"
   ]
  },
  {
   "cell_type": "code",
   "execution_count": 35,
   "metadata": {},
   "outputs": [
    {
     "ename": "KeyError",
     "evalue": "'price'",
     "output_type": "error",
     "traceback": [
      "\u001b[1;31m---------------------------------------------------------------------------\u001b[0m",
      "\u001b[1;31mKeyError\u001b[0m                                  Traceback (most recent call last)",
      "\u001b[1;32mC:\\Users\\RVHU32~1\\AppData\\Local\\Temp/ipykernel_12812/3525961148.py\u001b[0m in \u001b[0;36m<module>\u001b[1;34m\u001b[0m\n\u001b[1;32m----> 1\u001b[1;33m \u001b[0mp2\u001b[0m \u001b[1;33m=\u001b[0m \u001b[0mbook\u001b[0m\u001b[1;33m[\u001b[0m\u001b[1;34m\"price\"\u001b[0m\u001b[1;33m]\u001b[0m\u001b[1;33m\u001b[0m\u001b[1;33m\u001b[0m\u001b[0m\n\u001b[0m\u001b[0;32m      2\u001b[0m \u001b[0mprint\u001b[0m\u001b[1;33m(\u001b[0m\u001b[1;34mf\"Price:\\t{p2}\"\u001b[0m\u001b[1;33m)\u001b[0m\u001b[1;33m\u001b[0m\u001b[1;33m\u001b[0m\u001b[0m\n",
      "\u001b[1;31mKeyError\u001b[0m: 'price'"
     ]
    }
   ],
   "source": [
    "p2 = book[\"price\"]\n",
    "print(f\"Price:\\t{p2}\")"
   ]
  },
  {
   "cell_type": "code",
   "execution_count": 36,
   "metadata": {},
   "outputs": [
    {
     "name": "stdout",
     "output_type": "stream",
     "text": [
      "price: \tNone\n"
     ]
    }
   ],
   "source": [
    "price = book.get('price')\n",
    "print(f\"price: \\t{price}\")"
   ]
  },
  {
   "cell_type": "code",
   "execution_count": 37,
   "metadata": {},
   "outputs": [
    {
     "name": "stdout",
     "output_type": "stream",
     "text": [
      "price: \tUnknown\n"
     ]
    }
   ],
   "source": [
    "price = book.get('price', \"Unknown\")\n",
    "print(f\"price: \\t{price}\")"
   ]
  },
  {
   "cell_type": "code",
   "execution_count": 38,
   "metadata": {},
   "outputs": [
    {
     "name": "stdout",
     "output_type": "stream",
     "text": [
      "price: \tout of stock\n"
     ]
    }
   ],
   "source": [
    "price = book.get('price', \"out of stock\")\n",
    "print(f\"price: \\t{price}\")"
   ]
  },
  {
   "cell_type": "code",
   "execution_count": 39,
   "metadata": {},
   "outputs": [
    {
     "name": "stdout",
     "output_type": "stream",
     "text": [
      "{'name': 'Big Bird', 'age': 39, 'height': 74}\n",
      "None\n"
     ]
    }
   ],
   "source": [
    "# checking for None  \n",
    "\n",
    "print(person)\n",
    "education = person.get(\"education\")\n",
    "print(education)\n"
   ]
  },
  {
   "cell_type": "code",
   "execution_count": 40,
   "metadata": {},
   "outputs": [
    {
     "data": {
      "text/plain": [
       "True"
      ]
     },
     "execution_count": 40,
     "metadata": {},
     "output_type": "execute_result"
    }
   ],
   "source": [
    "education is None"
   ]
  },
  {
   "cell_type": "code",
   "execution_count": 41,
   "metadata": {},
   "outputs": [
    {
     "name": "stdout",
     "output_type": "stream",
     "text": [
      "Storytelling with Data\n",
      "False\n"
     ]
    }
   ],
   "source": [
    "print(title)\n",
    "print(title is None)"
   ]
  },
  {
   "cell_type": "code",
   "execution_count": 42,
   "metadata": {},
   "outputs": [
    {
     "name": "stdout",
     "output_type": "stream",
     "text": [
      "Unknown\n"
     ]
    }
   ],
   "source": [
    "# checking for None  \n",
    "\n",
    "education = person.get(\"education\")\n",
    "\n",
    "if education is None :\n",
    "    print(\"Unknown\")\n",
    "else :    \n",
    "    print(education)"
   ]
  },
  {
   "cell_type": "code",
   "execution_count": 43,
   "metadata": {},
   "outputs": [
    {
     "name": "stdout",
     "output_type": "stream",
     "text": [
      "{'title': 'Storytelling with Data', 'authors': ['Cole Nussbaumer Knaflic'], 'genre': 'business', 'ISBN': '1119002257'}\n",
      "Unknown\n"
     ]
    }
   ],
   "source": [
    "# compare with...\n",
    "print(book)\n",
    "if \"price\" in book :       # is 'price' a key in book dictionary?\n",
    "    print(book[\"price\"])\n",
    "else :    \n",
    "    print(\"Unknown\")"
   ]
  },
  {
   "cell_type": "code",
   "execution_count": 44,
   "metadata": {},
   "outputs": [
    {
     "name": "stdout",
     "output_type": "stream",
     "text": [
      "Unknown\n",
      "{'name': 'Big Bird', 'age': 39, 'height': 74}\n"
     ]
    }
   ],
   "source": [
    "# Compare above cell with this one  \n",
    "\n",
    "# person[\"education\"] = \"in process\"\n",
    "\n",
    "if \"education\" in person :\n",
    "    education = person[\"education\"]\n",
    "else :    \n",
    "    education = \"Unknown\"\n",
    "    \n",
    "print(education)\n",
    "print(person)"
   ]
  },
  {
   "cell_type": "code",
   "execution_count": 45,
   "metadata": {},
   "outputs": [
    {
     "name": "stdout",
     "output_type": "stream",
     "text": [
      "39\n",
      "{'name': 'Big Bird', 'height': 74}\n"
     ]
    }
   ],
   "source": [
    "# remove an item\n",
    "\n",
    "item = person.pop(\"age\")\n",
    "print(item)\n",
    "print(person)"
   ]
  },
  {
   "cell_type": "code",
   "execution_count": 47,
   "metadata": {},
   "outputs": [
    {
     "ename": "KeyError",
     "evalue": "'education'",
     "output_type": "error",
     "traceback": [
      "\u001b[1;31m---------------------------------------------------------------------------\u001b[0m",
      "\u001b[1;31mKeyError\u001b[0m                                  Traceback (most recent call last)",
      "\u001b[1;32mC:\\Users\\RVHU32~1\\AppData\\Local\\Temp/ipykernel_12812/27637266.py\u001b[0m in \u001b[0;36m<module>\u001b[1;34m\u001b[0m\n\u001b[0;32m      1\u001b[0m \u001b[1;31m# remove an item\u001b[0m\u001b[1;33m\u001b[0m\u001b[1;33m\u001b[0m\u001b[0m\n\u001b[0;32m      2\u001b[0m \u001b[1;33m\u001b[0m\u001b[0m\n\u001b[1;32m----> 3\u001b[1;33m \u001b[0meducation\u001b[0m \u001b[1;33m=\u001b[0m \u001b[0mperson\u001b[0m\u001b[1;33m.\u001b[0m\u001b[0mpop\u001b[0m\u001b[1;33m(\u001b[0m\u001b[1;34m\"education\"\u001b[0m\u001b[1;33m)\u001b[0m\u001b[1;33m\u001b[0m\u001b[1;33m\u001b[0m\u001b[0m\n\u001b[0m\u001b[0;32m      4\u001b[0m \u001b[0mprint\u001b[0m\u001b[1;33m(\u001b[0m\u001b[0meducation\u001b[0m\u001b[1;33m)\u001b[0m\u001b[1;33m\u001b[0m\u001b[1;33m\u001b[0m\u001b[0m\n\u001b[0;32m      5\u001b[0m \u001b[0mprint\u001b[0m\u001b[1;33m(\u001b[0m\u001b[0mperson\u001b[0m\u001b[1;33m)\u001b[0m\u001b[1;33m\u001b[0m\u001b[1;33m\u001b[0m\u001b[0m\n",
      "\u001b[1;31mKeyError\u001b[0m: 'education'"
     ]
    }
   ],
   "source": [
    "# remove an item\n",
    "\n",
    "education = person.pop(\"education\")\n",
    "print(education)\n",
    "print(person)"
   ]
  },
  {
   "cell_type": "code",
   "execution_count": 46,
   "metadata": {},
   "outputs": [
    {
     "name": "stdout",
     "output_type": "stream",
     "text": [
      "not available\n",
      "{'name': 'Big Bird', 'height': 74}\n"
     ]
    }
   ],
   "source": [
    "education = person.pop(\"education\", \"not available\") \n",
    "print(education)\n",
    "print(person)"
   ]
  },
  {
   "cell_type": "code",
   "execution_count": 48,
   "metadata": {},
   "outputs": [
    {
     "name": "stdout",
     "output_type": "stream",
     "text": [
      "before pop {'status': 'in process'}\n",
      "in process\n",
      "after pop {}\n"
     ]
    }
   ],
   "source": [
    "# remove an item\n",
    "\n",
    "student = {}\n",
    "student[\"status\"] = \"in process\"\n",
    "print(f\"before pop {student}\")\n",
    "print(student.pop(\"status\"))\n",
    "print(f\"after pop {student}\")"
   ]
  },
  {
   "cell_type": "code",
   "execution_count": 49,
   "metadata": {},
   "outputs": [
    {
     "name": "stdout",
     "output_type": "stream",
     "text": [
      "{'name': 'John', 'status': 'in process'}\n",
      "('status', 'in process')\n",
      "{'name': 'John'}\n"
     ]
    }
   ],
   "source": [
    "# remove the last inserted item\n",
    "\n",
    "student[\"name\"] = \"John\"\n",
    "student[\"status\"] = \"in process\"\n",
    "print(student)\n",
    "\n",
    "last = student.popitem()\n",
    "\n",
    "print(last)\n",
    "print(student)"
   ]
  },
  {
   "cell_type": "code",
   "execution_count": null,
   "metadata": {},
   "outputs": [],
   "source": [
    "samples = {}\n",
    "sample = samples.popitem()\n",
    "print(sample)\n",
    "print(samples)"
   ]
  },
  {
   "cell_type": "code",
   "execution_count": 50,
   "metadata": {},
   "outputs": [
    {
     "ename": "NameError",
     "evalue": "name 'samples' is not defined",
     "output_type": "error",
     "traceback": [
      "\u001b[1;31m---------------------------------------------------------------------------\u001b[0m",
      "\u001b[1;31mNameError\u001b[0m                                 Traceback (most recent call last)",
      "\u001b[1;32mC:\\Users\\RVHU32~1\\AppData\\Local\\Temp/ipykernel_12812/149684240.py\u001b[0m in \u001b[0;36m<module>\u001b[1;34m\u001b[0m\n\u001b[1;32m----> 1\u001b[1;33m \u001b[0mprint\u001b[0m\u001b[1;33m(\u001b[0m\u001b[0mlen\u001b[0m\u001b[1;33m(\u001b[0m\u001b[0msamples\u001b[0m\u001b[1;33m)\u001b[0m\u001b[1;33m)\u001b[0m\u001b[1;33m\u001b[0m\u001b[1;33m\u001b[0m\u001b[0m\n\u001b[0m\u001b[0;32m      2\u001b[0m \u001b[0mprint\u001b[0m\u001b[1;33m(\u001b[0m\u001b[0msamples\u001b[0m\u001b[1;33m)\u001b[0m\u001b[1;33m\u001b[0m\u001b[1;33m\u001b[0m\u001b[0m\n",
      "\u001b[1;31mNameError\u001b[0m: name 'samples' is not defined"
     ]
    }
   ],
   "source": [
    "print(len(samples))\n",
    "print(samples)"
   ]
  },
  {
   "cell_type": "code",
   "execution_count": 51,
   "metadata": {},
   "outputs": [
    {
     "name": "stdout",
     "output_type": "stream",
     "text": [
      "{'name': 'John', 'height': 74}\n",
      "2349774688576\n",
      "\n",
      "{}\n",
      "2349774688576\n",
      "0\n"
     ]
    }
   ],
   "source": [
    "# clear a dictionary\n",
    "\n",
    "person[\"name\"] = \"John\"\n",
    "print(person)\n",
    "print(id(person))\n",
    "print()\n",
    "\n",
    "person.clear()\n",
    "\n",
    "print(person)\n",
    "print(id(person))\n",
    "print(len(person))"
   ]
  },
  {
   "cell_type": "code",
   "execution_count": 52,
   "metadata": {},
   "outputs": [
    {
     "name": "stdout",
     "output_type": "stream",
     "text": [
      "2349774423296\n",
      "{'name': 'John', 'grade': '3'}\n",
      "{'grade': '3'}\n"
     ]
    }
   ],
   "source": [
    "person = {\"name\": \"John\", \"grade\" : \"3\"}\n",
    "print(id(person))\n",
    "print(person)\n",
    "del person[\"name\"]\n",
    "print(person)"
   ]
  },
  {
   "cell_type": "code",
   "execution_count": 53,
   "metadata": {},
   "outputs": [
    {
     "ename": "KeyError",
     "evalue": "'name'",
     "output_type": "error",
     "traceback": [
      "\u001b[1;31m---------------------------------------------------------------------------\u001b[0m",
      "\u001b[1;31mKeyError\u001b[0m                                  Traceback (most recent call last)",
      "\u001b[1;32mC:\\Users\\RVHU32~1\\AppData\\Local\\Temp/ipykernel_12812/1907499471.py\u001b[0m in \u001b[0;36m<module>\u001b[1;34m\u001b[0m\n\u001b[1;32m----> 1\u001b[1;33m \u001b[1;32mdel\u001b[0m \u001b[0mperson\u001b[0m\u001b[1;33m[\u001b[0m\u001b[1;34m\"name\"\u001b[0m\u001b[1;33m]\u001b[0m   \u001b[1;31m# already deleted\u001b[0m\u001b[1;33m\u001b[0m\u001b[1;33m\u001b[0m\u001b[0m\n\u001b[0m\u001b[0;32m      2\u001b[0m \u001b[0mprint\u001b[0m\u001b[1;33m(\u001b[0m\u001b[0mperson\u001b[0m\u001b[1;33m)\u001b[0m\u001b[1;33m\u001b[0m\u001b[1;33m\u001b[0m\u001b[0m\n",
      "\u001b[1;31mKeyError\u001b[0m: 'name'"
     ]
    }
   ],
   "source": [
    "del person[\"name\"]   # already deleted\n",
    "print(person)"
   ]
  },
  {
   "cell_type": "code",
   "execution_count": 54,
   "metadata": {},
   "outputs": [
    {
     "ename": "NameError",
     "evalue": "name 'person' is not defined",
     "output_type": "error",
     "traceback": [
      "\u001b[1;31m---------------------------------------------------------------------------\u001b[0m",
      "\u001b[1;31mNameError\u001b[0m                                 Traceback (most recent call last)",
      "\u001b[1;32mC:\\Users\\RVHU32~1\\AppData\\Local\\Temp/ipykernel_12812/1577815474.py\u001b[0m in \u001b[0;36m<module>\u001b[1;34m\u001b[0m\n\u001b[0;32m      1\u001b[0m \u001b[1;31m# delete a dictionary\u001b[0m\u001b[1;33m\u001b[0m\u001b[1;33m\u001b[0m\u001b[0m\n\u001b[0;32m      2\u001b[0m \u001b[1;32mdel\u001b[0m \u001b[0mperson\u001b[0m\u001b[1;33m\u001b[0m\u001b[1;33m\u001b[0m\u001b[0m\n\u001b[1;32m----> 3\u001b[1;33m \u001b[0mprint\u001b[0m\u001b[1;33m(\u001b[0m\u001b[0mperson\u001b[0m\u001b[1;33m)\u001b[0m\u001b[1;33m\u001b[0m\u001b[1;33m\u001b[0m\u001b[0m\n\u001b[0m",
      "\u001b[1;31mNameError\u001b[0m: name 'person' is not defined"
     ]
    }
   ],
   "source": [
    "# delete a dictionary\n",
    "del person\n",
    "print(person)"
   ]
  },
  {
   "cell_type": "code",
   "execution_count": 55,
   "metadata": {},
   "outputs": [
    {
     "ename": "NameError",
     "evalue": "name 'sue' is not defined",
     "output_type": "error",
     "traceback": [
      "\u001b[1;31m---------------------------------------------------------------------------\u001b[0m",
      "\u001b[1;31mNameError\u001b[0m                                 Traceback (most recent call last)",
      "\u001b[1;32mC:\\Users\\RVHU32~1\\AppData\\Local\\Temp/ipykernel_12812/2132222847.py\u001b[0m in \u001b[0;36m<module>\u001b[1;34m\u001b[0m\n\u001b[1;32m----> 1\u001b[1;33m \u001b[0mprint\u001b[0m\u001b[1;33m(\u001b[0m\u001b[0msue\u001b[0m\u001b[1;33m)\u001b[0m\u001b[1;33m\u001b[0m\u001b[1;33m\u001b[0m\u001b[0m\n\u001b[0m",
      "\u001b[1;31mNameError\u001b[0m: name 'sue' is not defined"
     ]
    }
   ],
   "source": [
    "print(sue)"
   ]
  },
  {
   "cell_type": "code",
   "execution_count": 56,
   "metadata": {},
   "outputs": [
    {
     "name": "stdout",
     "output_type": "stream",
     "text": [
      "{'name': 'Elmo', 'grade': 'A', 'hobbies': ['hiking', 'tennis', 'foodie'], 'height': 73.5}\n",
      "x = name, \tperson[x]=Elmo\n",
      "x = grade, \tperson[x]=A\n",
      "x = hobbies, \tperson[x]=['hiking', 'tennis', 'foodie']\n",
      "x = height, \tperson[x]=73.5\n"
     ]
    }
   ],
   "source": [
    "# looping a dictionary\n",
    "\n",
    "person = {\"name\": 'Elmo', \n",
    "          'grade': 'A', \n",
    "          'hobbies': ['hiking', 'tennis', 'foodie'], \n",
    "          'height': 73.5}\n",
    "print(person)\n",
    "\n",
    "for x in person:\n",
    "    print(f\"x = {x}, \\tperson[x]={person[x]}\")\n"
   ]
  },
  {
   "cell_type": "markdown",
   "metadata": {},
   "source": [
    "### Exercise 2\n",
    "Create a dictionary to store information about a book: book’s title, author, genre and ISBN. \n",
    "Then, print out each item in the dictionary using a loop.\n",
    "(You can use your code from exercise 1)\n"
   ]
  },
  {
   "cell_type": "code",
   "execution_count": 58,
   "metadata": {},
   "outputs": [
    {
     "name": "stdout",
     "output_type": "stream",
     "text": [
      "{'title': 'Love your self', 'author': 'lilly', 'genre': 'fiction', 'ISBN': '123456789'}\n",
      "\n",
      "title\t:\tLove your self\n",
      "author\t:\tlilly\n",
      "genre\t:\tfiction\n",
      "ISBN\t:\t123456789\n"
     ]
    }
   ],
   "source": [
    "# Create a dictionary to store information about a book:title, author, genre and ISBN\n",
    "\n",
    "book = {}\n",
    "book[\"title\"] = \"Love your self\"\n",
    "book[\"author\"] = \"lilly\"\n",
    "book[\"genre\"] = \"fiction\"\n",
    "book[\"ISBN\"] = \"123456789\"\n",
    "\n",
    "print(book)\n",
    "\n",
    "print()\n",
    "\n",
    "\n",
    "\n",
    "# Then, print out each item in the dictionary using a loop\n",
    "for key in book :\n",
    "    val = book[key]\n",
    "\n",
    "    print(f\"{key}\\t:\\t{val}\")"
   ]
  },
  {
   "cell_type": "code",
   "execution_count": 59,
   "metadata": {},
   "outputs": [
    {
     "name": "stdout",
     "output_type": "stream",
     "text": [
      "{'name': 'Elmo', 'grade': 'A', 'hobbies': ['hiking', 'tennis', 'foodie'], 'height': 73.5}\n",
      "dict_keys(['name', 'grade', 'hobbies', 'height'])\n"
     ]
    }
   ],
   "source": [
    "# dictionary method: keys()\n",
    "print(person)\n",
    "print(person.keys())"
   ]
  },
  {
   "cell_type": "code",
   "execution_count": 60,
   "metadata": {},
   "outputs": [
    {
     "name": "stdout",
     "output_type": "stream",
     "text": [
      "***Print the keys***\n",
      "name\n",
      "grade\n",
      "hobbies\n",
      "height\n"
     ]
    }
   ],
   "source": [
    "# if you want the keys\n",
    "\n",
    "print(\"***Print the keys***\")\n",
    "for key in person.keys():\n",
    "    print(key)\n",
    "    \n",
    "    "
   ]
  },
  {
   "cell_type": "code",
   "execution_count": 61,
   "metadata": {},
   "outputs": [
    {
     "name": "stdout",
     "output_type": "stream",
     "text": [
      "name has value of Elmo\n",
      "grade has value of A\n",
      "hobbies has value of ['hiking', 'tennis', 'foodie']\n",
      "height has value of 73.5\n"
     ]
    }
   ],
   "source": [
    "# using keys(), retrieve each key's value\n",
    "\n",
    "for key in person.keys():\n",
    "    print(key, \"has value of\", person[key])\n",
    "    \n",
    "    "
   ]
  },
  {
   "cell_type": "code",
   "execution_count": 62,
   "metadata": {},
   "outputs": [
    {
     "name": "stdout",
     "output_type": "stream",
     "text": [
      "***Print the values***\n",
      "\n",
      "Elmo\n",
      "A\n",
      "['hiking', 'tennis', 'foodie']\n",
      "73.5\n"
     ]
    }
   ],
   "source": [
    "# if you want to get just the values\n",
    "\n",
    "print(\"***Print the values***\\n\")\n",
    "for value in person.values():\n",
    "    print(value)"
   ]
  },
  {
   "cell_type": "code",
   "execution_count": 63,
   "metadata": {},
   "outputs": [
    {
     "name": "stdout",
     "output_type": "stream",
     "text": [
      "dict_items([('name', 'Elmo'), ('grade', 'A'), ('hobbies', ['hiking', 'tennis', 'foodie']), ('height', 73.5)])\n"
     ]
    }
   ],
   "source": [
    "# if you want to see the keys and values\n",
    "\n",
    "print(person.items())\n"
   ]
  },
  {
   "cell_type": "code",
   "execution_count": 64,
   "metadata": {},
   "outputs": [
    {
     "name": "stdout",
     "output_type": "stream",
     "text": [
      "***By both keys and values***\n",
      "\n",
      "('name', 'Elmo')\n",
      "('grade', 'A')\n",
      "('hobbies', ['hiking', 'tennis', 'foodie'])\n",
      "('height', 73.5)\n"
     ]
    }
   ],
   "source": [
    "# if you want to see the key, value pairs\n",
    "\n",
    "print(\"***By both keys and values***\\n\")\n",
    "for a in person.items():\n",
    "    print(a)"
   ]
  },
  {
   "cell_type": "code",
   "execution_count": 65,
   "metadata": {},
   "outputs": [
    {
     "name": "stdout",
     "output_type": "stream",
     "text": [
      "x=3\ty=1\n",
      "\n",
      "x=1\ty=3\n",
      "\n"
     ]
    }
   ],
   "source": [
    "x = 3\n",
    "y = 1\n",
    "print(f\"x={x}\\ty={y}\\n\")\n",
    "\n",
    "x, y = y, x    # done simultaneously\n",
    "\n",
    "print(f\"x={x}\\ty={y}\\n\")"
   ]
  },
  {
   "cell_type": "code",
   "execution_count": 66,
   "metadata": {},
   "outputs": [
    {
     "name": "stdout",
     "output_type": "stream",
     "text": [
      "key: name\t value: Elmo\n",
      "key: grade\t value: A\n",
      "key: hobbies\t value: ['hiking', 'tennis', 'foodie']\n",
      "key: height\t value: 73.5\n"
     ]
    }
   ],
   "source": [
    "# if you want to see the keys and values\n",
    "\n",
    "for key, value in person.items():                     # assigns key and value variable simultaneously\n",
    "    print(f\"key: {key}\\t value: {value}\")"
   ]
  },
  {
   "cell_type": "code",
   "execution_count": 67,
   "metadata": {},
   "outputs": [
    {
     "name": "stdout",
     "output_type": "stream",
     "text": [
      "key: name\t value: Elmo\n",
      "key: grade\t value: A\n",
      "key: hobbies\t value: ['hiking', 'tennis', 'foodie']\n",
      "key: height\t value: 73.5\n"
     ]
    }
   ],
   "source": [
    "# another look...\n",
    "\n",
    "for key in person :\n",
    "    value = person[key]\n",
    "    print(f\"key: {key}\\t value: {value}\")"
   ]
  },
  {
   "cell_type": "code",
   "execution_count": 68,
   "metadata": {},
   "outputs": [
    {
     "name": "stdout",
     "output_type": "stream",
     "text": [
      "yes\n",
      "yes\n",
      "no\n"
     ]
    }
   ],
   "source": [
    "polls = {\"bart\" : \"yes\", \"marge\" : \"yes\", \"lisa\" : \"no\"}\n",
    "for item in polls.values() :\n",
    "    print(item)"
   ]
  },
  {
   "cell_type": "code",
   "execution_count": 69,
   "metadata": {},
   "outputs": [
    {
     "name": "stdout",
     "output_type": "stream",
     "text": [
      "{'yes': 2, 'no': 1}\n"
     ]
    }
   ],
   "source": [
    "poll_result = {}\n",
    "for item in polls.values() :\n",
    "    if item in poll_result :\n",
    "        poll_result[item] += 1\n",
    "    else :    \n",
    "        poll_result[item] = 1\n",
    "\n",
    "print(poll_result)        "
   ]
  },
  {
   "cell_type": "code",
   "execution_count": 70,
   "metadata": {},
   "outputs": [
    {
     "name": "stdout",
     "output_type": "stream",
     "text": [
      "polls:\t\t{'bart': 'yes', 'marge': 'yes', 'lisa': 'no'}\n",
      "polls_assgn:\t{'bart': 'yes', 'marge': 'yes', 'lisa': 'no'}\n",
      "polls_copy:\t{'bart': 'yes', 'marge': 'yes', 'lisa': 'no'}\n"
     ]
    }
   ],
   "source": [
    "# dictionary method: copy() \n",
    "\n",
    "polls = {\"bart\" : \"yes\", \"marge\" : \"yes\", \"lisa\" : \"no\"}\n",
    "polls_assgn = polls\n",
    "polls_copy = polls.copy()\n",
    "\n",
    "print(f\"polls:\\t\\t{polls}\")\n",
    "print(f\"polls_assgn:\\t{polls_assgn}\")\n",
    "print(f\"polls_copy:\\t{polls_copy}\")\n"
   ]
  },
  {
   "cell_type": "code",
   "execution_count": 71,
   "metadata": {},
   "outputs": [
    {
     "name": "stdout",
     "output_type": "stream",
     "text": [
      "polls:\t\t{'bart': 'yes', 'marge': 'yes'}\n",
      "polls_assgn:\t{'bart': 'yes', 'marge': 'yes'}\n",
      "polls_copy:\t{'bart': 'yes', 'marge': 'yes', 'lisa': 'no'}\n"
     ]
    }
   ],
   "source": [
    "\n",
    "polls.popitem()\n",
    "print(f\"polls:\\t\\t{polls}\")\n",
    "print(f\"polls_assgn:\\t{polls_assgn}\")\n",
    "print(f\"polls_copy:\\t{polls_copy}\")\n"
   ]
  },
  {
   "cell_type": "markdown",
   "metadata": {},
   "source": [
    "### Exercise 3\n",
    "Create a program to ask several people for their name and their favorite drink. \n",
    "Then, summarize your finding.\n",
    "Fix errors and run to show it works.\n"
   ]
  },
  {
   "cell_type": "code",
   "execution_count": 80,
   "metadata": {},
   "outputs": [
    {
     "ename": "IndentationError",
     "evalue": "expected an indented block (Temp/ipykernel_12812/1205402006.py, line 19)",
     "output_type": "error",
     "traceback": [
      "\u001b[1;36m  File \u001b[1;32m\"C:\\Users\\RVHU32~1\\AppData\\Local\\Temp/ipykernel_12812/1205402006.py\"\u001b[1;36m, line \u001b[1;32m19\u001b[0m\n\u001b[1;33m    poll_result[item] += 1\u001b[0m\n\u001b[1;37m    ^\u001b[0m\n\u001b[1;31mIndentationError\u001b[0m\u001b[1;31m:\u001b[0m expected an indented block\n"
     ]
    }
   ],
   "source": [
    "# fix errors\n",
    "\n",
    "survey = {}\n",
    "\n",
    "# loop to ask for name and favorite drink\n",
    "answer = \"\"\n",
    "while answer != 'q':\n",
    "    name = input(\"What's your name?: \")\n",
    "    survey['name'] = input(\"What's your favorite drink?: \")\n",
    "    answer = input(\"Would you like to continue? (y/n)\")\n",
    "\n",
    "# calculate the total number of each drinks\n",
    "result = {}\n",
    "\n",
    "for item in polls.values():                \n",
    "    if item in poll_result :\n",
    "    poll_result[item] += 1\n",
    "    else :    \n",
    "    poll_result[item] = 1\n",
    "        \n",
    "    print(result)\n",
    "\n",
    "\n"
   ]
  },
  {
   "cell_type": "markdown",
   "metadata": {},
   "source": [
    "### Nested dictionary"
   ]
  },
  {
   "cell_type": "code",
   "execution_count": 81,
   "metadata": {},
   "outputs": [
    {
     "name": "stdout",
     "output_type": "stream",
     "text": [
      "{'location': 'online', 1: {'item': 1265401, 'brand': 'Browny', 'price': 15.99}}\n"
     ]
    }
   ],
   "source": [
    "# Nested dictionary\n",
    "\n",
    "product = {\"item\" : 1265401, \"brand\" : \"Browny\", \"price\" : 15.99}\n",
    "products = { \"location\" : \"online\", 1 : product}\n",
    "print(products)\n"
   ]
  },
  {
   "cell_type": "code",
   "execution_count": 83,
   "metadata": {},
   "outputs": [
    {
     "name": "stdout",
     "output_type": "stream",
     "text": [
      "see products information\n",
      "key: location \tvalue: online\n",
      "key: 1 \t\tvalue: {'item': 1265401, 'brand': 'Browny', 'price': 15.99}\n"
     ]
    }
   ],
   "source": [
    "print(\"see products information\")\n",
    "print(f\"key: location \\tvalue: {products['location']}\")\n",
    "print(f\"key: 1 \\t\\tvalue: {products[1]}\")\n"
   ]
  },
  {
   "cell_type": "code",
   "execution_count": 84,
   "metadata": {},
   "outputs": [
    {
     "name": "stdout",
     "output_type": "stream",
     "text": [
      "\tkey: item \tvalue: 1265401\n",
      "\tkey: brand \tvalue: Browny\n",
      "\tkey: price \tvalue: 15.99\n"
     ]
    }
   ],
   "source": [
    "for key in products[1].keys() :\n",
    "    print(f\"\\tkey: {key} \\tvalue: {products[1][key]}\")"
   ]
  },
  {
   "cell_type": "code",
   "execution_count": 85,
   "metadata": {},
   "outputs": [
    {
     "name": "stdout",
     "output_type": "stream",
     "text": [
      "{'location': 'online', 1: {'item': 1265401, 'brand': 'Browny', 'price': 15.99}, 2: {'item': 124578, 'brand': 'MC', 'price': 29.05}}\n"
     ]
    }
   ],
   "source": [
    "product2 = {\"item\" : 124578, \"brand\" : \"MC\", \"price\" : 29.05}\n",
    "products[2] = product2\n",
    "print(products)"
   ]
  },
  {
   "cell_type": "code",
   "execution_count": 88,
   "metadata": {},
   "outputs": [
    {
     "name": "stdout",
     "output_type": "stream",
     "text": [
      "products information\n",
      "key: location \tvalue: online\n",
      "key: 1 \tvalue:\n",
      "\tkey: item \tvalue: 1265401\n",
      "\tkey: brand \tvalue: Browny\n",
      "\tkey: price \tvalue: 15.99\n",
      "key: 2 \tvalue:\n",
      "\tkey: item \tvalue: 124578\n",
      "\tkey: brand \tvalue: MC\n",
      "\tkey: price \tvalue: 29.05\n"
     ]
    }
   ],
   "source": [
    "print(\"products information\")\n",
    "\n",
    "for key, value in products.items() :    \n",
    "    if (type(value) == dict) :    \n",
    "        print(f\"key: {key} \\tvalue:\")\n",
    "        for key2, value2 in products[key].items() :       \n",
    "            print(f\"\\tkey: {key2} \\tvalue: {value2}\") \n",
    "    else :         \n",
    "        print(f\"key: {key} \\tvalue: {value}\")\n",
    "    "
   ]
  },
  {
   "cell_type": "code",
   "execution_count": 89,
   "metadata": {},
   "outputs": [],
   "source": [
    "def print_dictionary(dictionary) :\n",
    "\n",
    "    for key, value in dictionary.items() :    \n",
    "        if (type(value) == dict) :    \n",
    "            print(f\"key: {key} \\tvalue:\")\n",
    "            for key2, value2 in dictionary[key].items() :       \n",
    "                print(f\"\\tkey: {key2} \\tvalue: {value2}\") \n",
    "        else :         \n",
    "            print(f\"key: {key} \\tvalue: {value}\")\n",
    "\n",
    "            "
   ]
  },
  {
   "cell_type": "code",
   "execution_count": 90,
   "metadata": {},
   "outputs": [
    {
     "name": "stdout",
     "output_type": "stream",
     "text": [
      "key: location \tvalue: online\n",
      "key: 1 \tvalue:\n",
      "\tkey: item \tvalue: 1265401\n",
      "\tkey: brand \tvalue: Browny\n",
      "\tkey: price \tvalue: 15.99\n",
      "key: 2 \tvalue:\n",
      "\tkey: item \tvalue: 124578\n",
      "\tkey: brand \tvalue: MC\n",
      "\tkey: price \tvalue: 29.05\n"
     ]
    }
   ],
   "source": [
    "print_dictionary(products)"
   ]
  },
  {
   "cell_type": "code",
   "execution_count": 91,
   "metadata": {},
   "outputs": [
    {
     "name": "stdout",
     "output_type": "stream",
     "text": [
      "key: location \tvalue: online\n",
      "key: 1 \tvalue:\n",
      "\tkey: item \tvalue: 1265401\n",
      "\tkey: brand \tvalue: Browny\n",
      "\tkey: price \tvalue: 15.99\n",
      "key: 2 \tvalue:\n",
      "\tkey: item \tvalue: 124578\n",
      "\tkey: brand \tvalue: MC\n",
      "\tkey: price \tvalue: 29.05\n",
      "key: 3 \tvalue: [1, 2, 3, 4, 5]\n"
     ]
    }
   ],
   "source": [
    "products[3] = [1, 2, 3, 4, 5]\n",
    "print_dictionary(products)"
   ]
  },
  {
   "cell_type": "code",
   "execution_count": 92,
   "metadata": {},
   "outputs": [
    {
     "name": "stdout",
     "output_type": "stream",
     "text": [
      "key: location \tvalue: online\n",
      "key: 1 \tvalue:\n",
      "\tkey: item \tvalue: 1265401\n",
      "\tkey: brand \tvalue: Browny\n",
      "\tkey: price \tvalue: 15.99\n",
      "key: 2 \tvalue:\n",
      "\tkey: type \tvalue: book\n",
      "\tkey: title \tvalue: Python 1\n",
      "key: 3 \tvalue: [1, 2, 3, 4, 5]\n"
     ]
    }
   ],
   "source": [
    "products[2] = {\"type\" : \"book\"}\n",
    "products[2][\"title\"] = \"Python 1\"\n",
    "\n",
    "print_dictionary(products)"
   ]
  },
  {
   "cell_type": "code",
   "execution_count": 94,
   "metadata": {},
   "outputs": [
    {
     "name": "stdout",
     "output_type": "stream",
     "text": [
      "{'child1': {'name': 'Emily', 'year': 2004, 'sex': 'M'}, 'child2': {'name': 'Toby', 'year': 2007}, 'child3': {'name': 'Linus', 'year': 2011}}\n"
     ]
    }
   ],
   "source": [
    "# Nested dictionary - example 2\n",
    "# creating a family dictionary \n",
    "# creating a dictionary per each family member\n",
    "\n",
    "child1 = {\n",
    "  \"name\" : \"Emily\",\n",
    "  \"year\" : 2004,\n",
    "    \"sex\": \"M\"\n",
    "}\n",
    "child2 = {\n",
    "  \"name\" : \"Toby\",\n",
    "  \"year\" : 2007\n",
    "}\n",
    "child3 = {\n",
    "  \"name\" : \"Linus\",\n",
    "  \"year\" : 2011\n",
    "}\n",
    "\n",
    "#now adding all the dictionaries to one\n",
    "family = {\n",
    "  \"child1\" : child1,\n",
    "  \"child2\" : child2,\n",
    "  \"child3\" : child3\n",
    "}\n",
    "print(family)\n"
   ]
  },
  {
   "cell_type": "code",
   "execution_count": 95,
   "metadata": {},
   "outputs": [
    {
     "name": "stdout",
     "output_type": "stream",
     "text": [
      "{'child1': {'name': 'Emily', 'year': 2004}, 'child2': {'name': 'Toby', 'year': 2007}, 'child3': {'name': 'Linus', 'year': 2011}}\n"
     ]
    }
   ],
   "source": [
    "# OR creating a nested dicitonary where myfamily holds everything\n",
    "myfamily = {\n",
    "  \"child1\" : {\n",
    "    \"name\" : \"Emily\",\n",
    "    \"year\" : 2004\n",
    "  },\n",
    "  \"child2\" : {\n",
    "    \"name\" : \"Toby\",\n",
    "    \"year\" : 2007\n",
    "  },\n",
    "  \"child3\" : {\n",
    "    \"name\" : \"Linus\",\n",
    "    \"year\" : 2011\n",
    "  }\n",
    "}\n",
    "\n",
    "print(myfamily)"
   ]
  },
  {
   "cell_type": "code",
   "execution_count": 96,
   "metadata": {},
   "outputs": [
    {
     "data": {
      "text/plain": [
       "False"
      ]
     },
     "execution_count": 96,
     "metadata": {},
     "output_type": "execute_result"
    }
   ],
   "source": [
    "family == myfamily"
   ]
  },
  {
   "cell_type": "code",
   "execution_count": 97,
   "metadata": {},
   "outputs": [
    {
     "name": "stdout",
     "output_type": "stream",
     "text": [
      "2349774715456\n",
      "2349774716672\n"
     ]
    }
   ],
   "source": [
    "print(id(family))\n",
    "print(id(myfamily))"
   ]
  },
  {
   "cell_type": "code",
   "execution_count": 99,
   "metadata": {},
   "outputs": [
    {
     "name": "stdout",
     "output_type": "stream",
     "text": [
      "value=Emily\n",
      "value=2004\n",
      "value=M\n",
      "value=Toby\n",
      "value=2007\n",
      "value=Linus\n",
      "value=2011\n",
      "Sorry the value doesn't exist!\n",
      "{'child1': {'name': 'Emily', 'year': 2004, 'sex': 'M'}, 'child2': {'name': 'Toby', 'year': 2007}, 'child3': {'name': 'Linus', 'year': 2011}}\n"
     ]
    }
   ],
   "source": [
    "# Nested dictionaries need a nested for loop in order to pull out the values - using values(). \n",
    "\n",
    "valueInside = False\n",
    "\n",
    "for child in family.values():\n",
    "    for value in child.values():\n",
    "        print(f\"value={value}\")\n",
    "        if \"2017\" in str(value):\n",
    "            valueInside = True\n",
    "\n",
    "if valueInside == True:\n",
    "    print(\"The value that I'm searching for is inside.\")\n",
    "else:\n",
    "    print(\"Sorry the value doesn't exist!\")\n",
    "\n",
    "print(family)    "
   ]
  },
  {
   "cell_type": "code",
   "execution_count": 98,
   "metadata": {},
   "outputs": [
    {
     "name": "stdout",
     "output_type": "stream",
     "text": [
      "\n",
      "name of child1 is Emily\n",
      "year of child1 is 2004\n",
      "sex of child1 is M\n",
      "\n",
      "name of child2 is Toby\n",
      "year of child2 is 2007\n",
      "\n",
      "name of child3 is Linus\n",
      "year of child3 is 2011\n",
      "The value that I'm searching for is inside.\n"
     ]
    }
   ],
   "source": [
    "# Nested dictionaries need a nested for loop in order to pull out the values - using items(). \n",
    "\n",
    "valueInside = False\n",
    "\n",
    "for order, child in family.items():\n",
    "    print()\n",
    "    for key, value in child.items():\n",
    "        print(f\"{key} of {order} is {value}\")\n",
    "        if \"2007\" in str(value):\n",
    "            valueInside = True\n",
    "\n",
    "if valueInside == True:\n",
    "    print(\"The value that I'm searching for is inside.\")\n",
    "else:\n",
    "    print(\"Sorry the value doesn't exist!\")\n",
    "    "
   ]
  },
  {
   "cell_type": "code",
   "execution_count": 100,
   "metadata": {},
   "outputs": [
    {
     "name": "stdout",
     "output_type": "stream",
     "text": [
      "NY State has:  New York\n",
      "OR State has:  Portland\n"
     ]
    }
   ],
   "source": [
    "# Nested Dictionary - example 3\n",
    "# create a mapping of state to abbreviation\n",
    "states = {\n",
    "'Oregon': 'OR',\n",
    "'Florida': 'FL',\n",
    "'California': 'CA',\n",
    "'New York': 'NY',\n",
    "'Michigan': 'MI'\n",
    "}\n",
    "\n",
    " # create a basic set of states and some cities in them\n",
    "cities = {\n",
    "'CA': 'San Francisco',\n",
    "'MI': 'Detroit',\n",
    "'FL': 'Jacksonville'\n",
    " }\n",
    "\n",
    " # add some more cities\n",
    "cities['NY'] = 'New York'\n",
    "cities['OR'] = 'Portland'\n",
    "\n",
    " # print out some cities\n",
    "print(\"NY State has: \", cities['NY'])\n",
    "print(\"OR State has: \", cities['OR'])"
   ]
  },
  {
   "cell_type": "code",
   "execution_count": 101,
   "metadata": {},
   "outputs": [
    {
     "name": "stdout",
     "output_type": "stream",
     "text": [
      "{'CA': 'San Francisco', 'MI': 'Detroit', 'FL': 'Jacksonville', 'NY': 'New York', 'OR': 'Portland'}\n"
     ]
    }
   ],
   "source": [
    "print(cities)"
   ]
  },
  {
   "cell_type": "code",
   "execution_count": 102,
   "metadata": {},
   "outputs": [
    {
     "name": "stdout",
     "output_type": "stream",
     "text": [
      "Michigan's abbreviation is:  MI\n",
      "Florida's abbreviation is:  FL\n"
     ]
    }
   ],
   "source": [
    "# print some states\n",
    "\n",
    "print(\"Michigan's abbreviation is: \", states['Michigan'])\n",
    "print(\"Florida's abbreviation is: \", states['Florida'])"
   ]
  },
  {
   "cell_type": "code",
   "execution_count": 103,
   "metadata": {},
   "outputs": [
    {
     "name": "stdout",
     "output_type": "stream",
     "text": [
      "{'Oregon': 'OR', 'Florida': 'FL', 'California': 'CA', 'New York': 'NY', 'Michigan': 'MI'}\n",
      "\n",
      "{'CA': 'San Francisco', 'MI': 'Detroit', 'FL': 'Jacksonville', 'NY': 'New York', 'OR': 'Portland'}\n"
     ]
    }
   ],
   "source": [
    "print(states)\n",
    "print()\n",
    "print(cities)"
   ]
  },
  {
   "cell_type": "code",
   "execution_count": 104,
   "metadata": {},
   "outputs": [
    {
     "name": "stdout",
     "output_type": "stream",
     "text": [
      "MI\n",
      "Michigan has Detroit\n"
     ]
    }
   ],
   "source": [
    "# do it by using the state then cities dict\n",
    "# cities[\"MI\"]\n",
    "\n",
    "print(states['Michigan'])\n",
    "print(\"Michigan has\", cities[states['Michigan']])\n"
   ]
  },
  {
   "cell_type": "code",
   "execution_count": 105,
   "metadata": {},
   "outputs": [
    {
     "name": "stdout",
     "output_type": "stream",
     "text": [
      "FL\n",
      "Florida has Jacksonville\n"
     ]
    }
   ],
   "source": [
    "# cities[\"FL\"]\n",
    "\n",
    "print(states['Florida'])\n",
    "print(\"Florida has\", cities[states['Florida']])"
   ]
  },
  {
   "cell_type": "code",
   "execution_count": 106,
   "metadata": {},
   "outputs": [
    {
     "name": "stdout",
     "output_type": "stream",
     "text": [
      "Oregon is abbreviated OR\n",
      "Florida is abbreviated FL\n",
      "California is abbreviated CA\n",
      "New York is abbreviated NY\n",
      "Michigan is abbreviated MI\n"
     ]
    }
   ],
   "source": [
    "# print every state abbreviation\n",
    "\n",
    "for state, abbrev in states.items():\n",
    "    print(f\"{state} is abbreviated {abbrev}\")"
   ]
  },
  {
   "cell_type": "code",
   "execution_count": 107,
   "metadata": {},
   "outputs": [
    {
     "name": "stdout",
     "output_type": "stream",
     "text": [
      "CA has the city San Francisco\n",
      "MI has the city Detroit\n",
      "FL has the city Jacksonville\n",
      "NY has the city New York\n",
      "OR has the city Portland\n"
     ]
    }
   ],
   "source": [
    "# print every city in state\n",
    "\n",
    "for abbrev, city in cities.items():\n",
    "    print(f\"{abbrev} has the city {city}\") "
   ]
  },
  {
   "cell_type": "code",
   "execution_count": 108,
   "metadata": {},
   "outputs": [
    {
     "name": "stdout",
     "output_type": "stream",
     "text": [
      "Oregon state is abbreviated OR\n",
      "and has city Portland\n",
      "Florida state is abbreviated FL\n",
      "and has city Jacksonville\n",
      "California state is abbreviated CA\n",
      "and has city San Francisco\n",
      "New York state is abbreviated NY\n",
      "and has city New York\n",
      "Michigan state is abbreviated MI\n",
      "and has city Detroit\n"
     ]
    }
   ],
   "source": [
    "# now do both at the same time\n",
    "\n",
    "for state, abbrev in states.items():\n",
    "    print(f\"{state} state is abbreviated {abbrev}\")\n",
    "    print(f\"and has city {cities[abbrev]}\")"
   ]
  },
  {
   "cell_type": "code",
   "execution_count": 109,
   "metadata": {},
   "outputs": [
    {
     "name": "stdout",
     "output_type": "stream",
     "text": [
      "None\n",
      "Sorry, no Texas.\n"
     ]
    }
   ],
   "source": [
    "# safely get a abbreviation by state that might not be there\n",
    "state = states.get('Texas')\n",
    "\n",
    "#what is state?\n",
    "print(state)\n",
    "\n",
    "#checking if there is a value or not attached to state\n",
    "if state != None: #another way to check is    if state:\n",
    "    print(\"Yes, Texas exists.\")\n",
    "\n",
    "if state == None: # another way to check is   if not state:\n",
    "    print(\"Sorry, no Texas.\")\n"
   ]
  },
  {
   "cell_type": "code",
   "execution_count": 110,
   "metadata": {},
   "outputs": [
    {
     "name": "stdout",
     "output_type": "stream",
     "text": [
      "No Texas\n"
     ]
    }
   ],
   "source": [
    "# or...\n",
    "state = states.get('Texas', 'No Texas')\n",
    "print(state)"
   ]
  },
  {
   "cell_type": "code",
   "execution_count": 111,
   "metadata": {},
   "outputs": [
    {
     "name": "stdout",
     "output_type": "stream",
     "text": [
      "The city for the state 'TX' is not available\n"
     ]
    }
   ],
   "source": [
    "# get a city with a default value\n",
    "\n",
    "city = cities.get('TX', 'not available')\n",
    "print(f\"The city for the state 'TX' is {city}\")"
   ]
  }
 ],
 "metadata": {
  "kernelspec": {
   "display_name": "Python 3 (ipykernel)",
   "language": "python",
   "name": "python3"
  },
  "language_info": {
   "codemirror_mode": {
    "name": "ipython",
    "version": 3
   },
   "file_extension": ".py",
   "mimetype": "text/x-python",
   "name": "python",
   "nbconvert_exporter": "python",
   "pygments_lexer": "ipython3",
   "version": "3.9.7"
  }
 },
 "nbformat": 4,
 "nbformat_minor": 2
}
