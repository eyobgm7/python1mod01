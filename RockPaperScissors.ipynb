{
 "cells": [
  {
   "cell_type": "code",
   "execution_count": 1,
   "id": "26afcfad",
   "metadata": {},
   "outputs": [
    {
     "name": "stdout",
     "output_type": "stream",
     "text": [
      "Enter rock, paper or scissors: rock\n",
      "It's a draw!\n"
     ]
    }
   ],
   "source": [
    "computer_choice = \"rock\"\n",
    "lets_play = True\n",
    "\n",
    "while lets_play:\n",
    "    player_choice = input(\"Enter rock, paper or scissors: \")\n",
    "    if player_choice == \"rock\" and computer_choice == \"rock\":\n",
    "        print(\"It's a draw!\")\n",
    "    elif player_choice == \"paper\" and computer_choice ==\"rock\":\n",
    "        print(\"You Win\")\n",
    "    elif player_choice == \"scissors\" and computer_choice == \"rock\":\n",
    "        print(\"You lose\")  \n",
    "    elif player_choice == \"rock\" and computer_choice == \"paper\":\n",
    "        print(\"You lose\")\n",
    "    elif player_choice == \"paper\" and computer_choice == \"paper\":\n",
    "        print(\"It's a draw!\")     \n",
    "    elif player_choice == \"scissors\" and computer_choice == \"paper\":\n",
    "        print(\"You Win\")      \n",
    "    else:\n",
    "        print(\"Thank you, That is not a valid selection\")\n",
    "    lets_play = False\n"
   ]
  },
  {
   "cell_type": "code",
   "execution_count": null,
   "id": "030e1cc4",
   "metadata": {},
   "outputs": [],
   "source": []
  }
 ],
 "metadata": {
  "kernelspec": {
   "display_name": "Python 3 (ipykernel)",
   "language": "python",
   "name": "python3"
  },
  "language_info": {
   "codemirror_mode": {
    "name": "ipython",
    "version": 3
   },
   "file_extension": ".py",
   "mimetype": "text/x-python",
   "name": "python",
   "nbconvert_exporter": "python",
   "pygments_lexer": "ipython3",
   "version": "3.9.12"
  }
 },
 "nbformat": 4,
 "nbformat_minor": 5
}
