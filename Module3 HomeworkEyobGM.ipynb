{
 "cells": [
  {
   "cell_type": "markdown",
   "metadata": {},
   "source": [
    "### Exercise 1\n",
    "Ask a user for 5 names and place each one in to a list called <i>names</i>. Then, print <i>names</i>."
   ]
  },
  {
   "cell_type": "code",
   "execution_count": 1,
   "metadata": {},
   "outputs": [
    {
     "name": "stdout",
     "output_type": "stream",
     "text": [
      "Enter a name: Eyob\n",
      "Enter a name: Sisay\n",
      "Enter a name: Fiker\n",
      "Enter a name: Lilly\n",
      "Enter a name: Tsehay\n",
      "['Eyob', 'Sisay', 'Fiker', 'Lilly', 'Tsehay']\n"
     ]
    }
   ],
   "source": [
    "names = []\n",
    "\n",
    "names.append(input(\"Enter a name: \"))\n",
    "names.append(input(\"Enter a name: \"))\n",
    "names.append(input(\"Enter a name: \"))\n",
    "names.append(input(\"Enter a name: \"))\n",
    "names.append(input(\"Enter a name: \"))\n",
    "\n",
    "print(names)\n"
   ]
  },
  {
   "cell_type": "markdown",
   "metadata": {},
   "source": [
    "### Exercise 2\n",
    "Print out a randomly selected name in the names list."
   ]
  },
  {
   "cell_type": "code",
   "execution_count": 6,
   "metadata": {},
   "outputs": [
    {
     "name": "stdout",
     "output_type": "stream",
     "text": [
      "Fiker\n"
     ]
    }
   ],
   "source": [
    "import random \n",
    "\n",
    "name_list = [\"Eyob\",\"Sisay\",\"Fiker\",\"Lilly\",\"Tsehay\"]\n",
    "\n",
    "print(random.choice(name_list))\n",
    "\n"
   ]
  },
  {
   "cell_type": "code",
   "execution_count": 13,
   "metadata": {},
   "outputs": [
    {
     "name": "stdout",
     "output_type": "stream",
     "text": [
      "['Tsehay']\n"
     ]
    }
   ],
   "source": [
    "import random\n",
    "\n",
    "name_list = [\"Eyob\",\"Sisay\",\"Fiker\",\"Lilly\",\"Tsehay\"]\n",
    "\n",
    "print(random.sample(name_list,1))\n",
    "\n"
   ]
  },
  {
   "cell_type": "markdown",
   "metadata": {},
   "source": [
    "### Exercise 3\n",
    "Ask for a color and store that answer. \n",
    "If the answer is grey then print out you found Victor's favorite color.\n",
    "Otherwise print out the color is not Victor's favorite color."
   ]
  },
  {
   "cell_type": "code",
   "execution_count": 51,
   "metadata": {},
   "outputs": [
    {
     "name": "stdout",
     "output_type": "stream",
     "text": [
      "Enter your Color:  grey\n",
      "You Found Victor's Favorite Color\n"
     ]
    }
   ],
   "source": [
    "color = str(input(\"Enter your Color:  \"))\n",
    "if color == \"grey\" :\n",
    "    print(\"You Found Victor's Favorite Color\")\n",
    "else:\n",
    "    print(\"The color is not Victor's favorite\")"
   ]
  },
  {
   "cell_type": "markdown",
   "metadata": {},
   "source": [
    "### Exercise 4\n",
    "Ask for an exam score and store that number. If the number is greater than 100, then print out 'You cannot have an exam score higher than 100'. If the number doesn't exceeed 100 but is greater than or equal to 75, then print out 'You did great on your exam!'. Otherwise if they scored lower than 75, then print out 'You need to study harder'."
   ]
  },
  {
   "cell_type": "code",
   "execution_count": 5,
   "metadata": {},
   "outputs": [
    {
     "name": "stdout",
     "output_type": "stream",
     "text": [
      "Enter your exam score: 100\n",
      "You did great on your exam!\n"
     ]
    }
   ],
   "source": [
    "exam_score = int(input(\"Enter your exam score: \"))\n",
    "if exam_score >100 :\n",
    "    print(\"You cannot have an exam score higher than 100\")\n",
    "elif exam_score <=100 and exam_score >=75 :\n",
    "    print(\"You did great on your exam!\")\n",
    "elif exam_score <75:\n",
    "    print(\"You need to study harder\")\n",
    "    "
   ]
  },
  {
   "cell_type": "markdown",
   "metadata": {},
   "source": [
    "### Exercise 5\n",
    "Write a function to convert a test score to a grade where  \n",
    " - 90 - 100: A\n",
    " - 80 - 89:  B\n",
    " - 70 - 79:  C\n",
    " - 60 - 69:  D\n",
    " - < 60   :  F\n",
    " \n",
    "If a score is not between 0 and 100 then print out an error message. In the program, ask the user for a score and then call your function. "
   ]
  },
  {
   "cell_type": "code",
   "execution_count": 1,
   "metadata": {},
   "outputs": [],
   "source": [
    "def grade(test_score):\n",
    "    \n",
    "    if test_score >=90 and test_score<=100 :\n",
    "        print(\"A\")\n",
    "    elif test_score >=80 and test_score<=89 :\n",
    "        print(\"B\")\n",
    "    elif test_score >=70 and test_score<=79 :\n",
    "        print(\"C\")\n",
    "    elif test_score >=60 and test_score<=69 :\n",
    "        print(\"D\")\n",
    "    elif test_score <60 and test_score>=0:\n",
    "        print(\"F\")\n",
    "    elif test_score >100 or test_score<0:\n",
    "        print (\"ERROR, Check with your instructor\")\n",
    "    \n",
    "    "
   ]
  },
  {
   "cell_type": "code",
   "execution_count": 2,
   "metadata": {},
   "outputs": [
    {
     "name": "stdout",
     "output_type": "stream",
     "text": [
      "Enter your exam score: 110\n",
      "ERROR, Check with your instructor\n",
      "Thank you, Bye!!\n"
     ]
    }
   ],
   "source": [
    "score = int(input(\"Enter your exam score: \")) \n",
    "grade(score)\n",
    "print(\"Thank you, Bye!!\")\n",
    "                 "
   ]
  },
  {
   "cell_type": "code",
   "execution_count": null,
   "metadata": {},
   "outputs": [],
   "source": []
  }
 ],
 "metadata": {
  "kernelspec": {
   "display_name": "Python 3 (ipykernel)",
   "language": "python",
   "name": "python3"
  },
  "language_info": {
   "codemirror_mode": {
    "name": "ipython",
    "version": 3
   },
   "file_extension": ".py",
   "mimetype": "text/x-python",
   "name": "python",
   "nbconvert_exporter": "python",
   "pygments_lexer": "ipython3",
   "version": "3.9.12"
  }
 },
 "nbformat": 4,
 "nbformat_minor": 4
}
